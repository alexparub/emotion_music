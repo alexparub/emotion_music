{
 "cells": [
  {
   "cell_type": "code",
   "execution_count": 1,
   "metadata": {},
   "outputs": [
    {
     "name": "stderr",
     "output_type": "stream",
     "text": [
      "/home/parubchenko/anaconda3/lib/python3.6/site-packages/h5py/__init__.py:36: FutureWarning: Conversion of the second argument of issubdtype from `float` to `np.floating` is deprecated. In future, it will be treated as `np.float64 == np.dtype(float).type`.\n",
      "  from ._conv import register_converters as _register_converters\n",
      "Using TensorFlow backend.\n"
     ]
    }
   ],
   "source": [
    "import keras\n",
    "import pickle\n",
    "from keras.utils import np_utils\n",
    "import numpy as np\n",
    "from tqdm import tqdm_notebook as tqdm"
   ]
  },
  {
   "cell_type": "code",
   "execution_count": 40,
   "metadata": {
    "collapsed": true
   },
   "outputs": [],
   "source": [
    "import glob"
   ]
  },
  {
   "cell_type": "code",
   "execution_count": 179,
   "metadata": {
    "collapsed": true
   },
   "outputs": [],
   "source": [
    "melodies = []\n",
    "with open('my_data/notes', 'rb') as filepath:\n",
    "    melodies = pickle.load(filepath)"
   ]
  },
  {
   "cell_type": "code",
   "execution_count": 180,
   "metadata": {
    "collapsed": true
   },
   "outputs": [],
   "source": [
    "labels = []\n",
    "with open('my_data/labels', 'rb') as filepath:\n",
    "    labels = pickle.load(filepath)"
   ]
  },
  {
   "cell_type": "code",
   "execution_count": 181,
   "metadata": {},
   "outputs": [
    {
     "data": {
      "application/vnd.jupyter.widget-view+json": {
       "model_id": "15403b363fa04684a30080a95cb9fd92",
       "version_major": 2,
       "version_minor": 0
      },
      "text/plain": [
       "HBox(children=(IntProgress(value=0, max=249), HTML(value='')))"
      ]
     },
     "metadata": {},
     "output_type": "display_data"
    }
   ],
   "source": [
    "notes = []\n",
    "\n",
    "for melody in tqdm(melodies):\n",
    "    key = melody[0]\n",
    "    if key in labels:\n",
    "        notes.append('Start')\n",
    "        for note in melody[1]:\n",
    "            if '.' not in note or len(note.split('.')) <= 3:\n",
    "                notes.append(note)\n",
    "        notes.append('End')"
   ]
  },
  {
   "cell_type": "code",
   "execution_count": 182,
   "metadata": {
    "collapsed": true
   },
   "outputs": [],
   "source": [
    "# Get all pitch names\n",
    "pitchnames = sorted(set(item for item in notes))\n",
    "# Get all pitch names\n",
    "n_vocab = len(set(notes))\n",
    "# create a dictionary to map pitches to integers\n",
    "note_to_int = dict((note, number) for number, note in enumerate(pitchnames))"
   ]
  },
  {
   "cell_type": "code",
   "execution_count": 184,
   "metadata": {
    "collapsed": true
   },
   "outputs": [],
   "source": [
    "MODEL = 10 # 0, 1, 2, 3, 10"
   ]
  },
  {
   "cell_type": "code",
   "execution_count": 235,
   "metadata": {},
   "outputs": [
    {
     "data": {
      "application/vnd.jupyter.widget-view+json": {
       "model_id": "892d6c8b070c44449b3d861560ddfde9",
       "version_major": 2,
       "version_minor": 0
      },
      "text/plain": [
       "HBox(children=(IntProgress(value=0, max=249), HTML(value='')))"
      ]
     },
     "metadata": {},
     "output_type": "display_data"
    },
    {
     "name": "stdout",
     "output_type": "stream",
     "text": [
      "275361\n"
     ]
    }
   ],
   "source": [
    "if MODEL == 10:\n",
    "    sequence_length = 32\n",
    "else:\n",
    "    sequence_length = 100\n",
    "\n",
    "network_input = []\n",
    "emotion_input = []\n",
    "network_output = []\n",
    "from collections import Counter\n",
    "types = Counter()\n",
    "summa = 0\n",
    "for melody in tqdm(melodies):\n",
    "    key = melody[0]\n",
    "    if key in labels:\n",
    "        emotion = labels[key]\n",
    "        melody_notes = ['Start'] \n",
    "        for note in melody[1]:\n",
    "            if '.' not in note or len(note.split('.')) <= 3:\n",
    "                melody_notes.append(note)\n",
    "        melody_notes += ['End']\n",
    "        summa += len(melody_notes) - sequence_length\n",
    "        for i in range(0, len(melody_notes) - sequence_length, 1):\n",
    "            types[emotion] += 1\n",
    "            sequence_in = melody_notes[i:i + sequence_length]\n",
    "            network_input.append([note_to_int[char] for char in sequence_in])\n",
    "            emotion_input.append(emotion)\n",
    "            if MODEL < 10:\n",
    "                sequence_out = melody_notes[i + sequence_length]\n",
    "                network_output.append(note_to_int[sequence_out])\n",
    "            elif MODEL == 10:\n",
    "                sequence_out = melody_notes[i + 1: i + sequence_length + 1]\n",
    "                network_output.append([note_to_int[char] for char in sequence_out])\n",
    "print(summa)"
   ]
  },
  {
   "cell_type": "code",
   "execution_count": 191,
   "metadata": {
    "collapsed": true
   },
   "outputs": [],
   "source": [
    "if MODEL == 0:\n",
    "    n_patterns = len(network_input)\n",
    "    # reshape the input into a format compatible with LSTM layers\n",
    "    Songs = np.reshape(network_input, (n_patterns, sequence_length, 1))\n",
    "    # normalize input\n",
    "    Songs = Songs / (float(n_vocab) - 1)\n",
    "    Emotions = np_utils.to_categorical(emotion_input)\n",
    "    Outputs = np_utils.to_categorical(network_output)"
   ]
  },
  {
   "cell_type": "code",
   "execution_count": 192,
   "metadata": {
    "collapsed": true
   },
   "outputs": [],
   "source": [
    "if MODEL > 0 and MODEL < 10:\n",
    "    n_patterns = len(network_input)\n",
    "    # reshape the input into a format compatible with LSTM layers\n",
    "    Songs = np.array(network_input)\n",
    "    Emotions = np_utils.to_categorical(emotion_input)\n",
    "    Outputs = np_utils.to_categorical(network_output)"
   ]
  },
  {
   "cell_type": "code",
   "execution_count": 245,
   "metadata": {
    "collapsed": true
   },
   "outputs": [],
   "source": [
    "if MODEL >= 10:\n",
    "    n_patterns = len(network_input)\n",
    "    # reshape the input into a format compatible with LSTM layers\n",
    "    Songs = np.array(network_input)\n",
    "    Emotions = np_utils.to_categorical(emotion_input)\n",
    "    #Outputs = np.array(network_output) / (float(n_vocab) - 1)"
   ]
  },
  {
   "cell_type": "code",
   "execution_count": 247,
   "metadata": {},
   "outputs": [
    {
     "data": {
      "application/vnd.jupyter.widget-view+json": {
       "model_id": "b891c098744e428f9c55d18a39d24807",
       "version_major": 2,
       "version_minor": 0
      },
      "text/plain": [
       "HBox(children=(IntProgress(value=1, bar_style='info', max=1), HTML(value='')))"
      ]
     },
     "metadata": {},
     "output_type": "display_data"
    },
    {
     "ename": "ValueError",
     "evalue": "setting an array element with a sequence.",
     "output_type": "error",
     "traceback": [
      "\u001b[0;31m---------------------------------------------------------------------------\u001b[0m",
      "\u001b[0;31mValueError\u001b[0m                                Traceback (most recent call last)",
      "\u001b[0;32m<ipython-input-247-aa42b6ebfddd>\u001b[0m in \u001b[0;36m<module>\u001b[0;34m()\u001b[0m\n\u001b[1;32m      1\u001b[0m \u001b[0mOutputs\u001b[0m \u001b[0;34m=\u001b[0m \u001b[0mnp\u001b[0m\u001b[0;34m.\u001b[0m\u001b[0mones\u001b[0m\u001b[0;34m(\u001b[0m\u001b[0mlen\u001b[0m\u001b[0;34m(\u001b[0m\u001b[0mnetwork_output\u001b[0m\u001b[0;34m)\u001b[0m\u001b[0;34m)\u001b[0m\u001b[0;34m\u001b[0m\u001b[0m\n\u001b[1;32m      2\u001b[0m \u001b[0;32mfor\u001b[0m \u001b[0mindex\u001b[0m\u001b[0;34m,\u001b[0m \u001b[0moutput\u001b[0m \u001b[0;32min\u001b[0m \u001b[0mtqdm\u001b[0m\u001b[0;34m(\u001b[0m\u001b[0menumerate\u001b[0m\u001b[0;34m(\u001b[0m\u001b[0mnetwork_output\u001b[0m\u001b[0;34m)\u001b[0m\u001b[0;34m)\u001b[0m\u001b[0;34m:\u001b[0m\u001b[0;34m\u001b[0m\u001b[0m\n\u001b[0;32m----> 3\u001b[0;31m     \u001b[0mOutputs\u001b[0m\u001b[0;34m[\u001b[0m\u001b[0mindex\u001b[0m\u001b[0;34m]\u001b[0m \u001b[0;34m=\u001b[0m \u001b[0mnp_utils\u001b[0m\u001b[0;34m.\u001b[0m\u001b[0mto_categorical\u001b[0m\u001b[0;34m(\u001b[0m\u001b[0moutput\u001b[0m\u001b[0;34m)\u001b[0m\u001b[0;34m\u001b[0m\u001b[0m\n\u001b[0m",
      "\u001b[0;31mValueError\u001b[0m: setting an array element with a sequence."
     ]
    }
   ],
   "source": [
    "Outputs = np.ones(len(network_output))\n",
    "for index, output in tqdm(enumerate(network_output)):\n",
    "    Outputs[index] = np_utils.to_categorical(output)"
   ]
  },
  {
   "cell_type": "code",
   "execution_count": 246,
   "metadata": {},
   "outputs": [
    {
     "data": {
      "text/plain": [
       "(275374, 32)"
      ]
     },
     "execution_count": 246,
     "metadata": {},
     "output_type": "execute_result"
    }
   ],
   "source": [
    "Songs.shape"
   ]
  },
  {
   "cell_type": "code",
   "execution_count": 197,
   "metadata": {
    "collapsed": true
   },
   "outputs": [],
   "source": [
    "n_emots = Emotions.shape[1]"
   ]
  },
  {
   "cell_type": "markdown",
   "metadata": {},
   "source": [
    "## Many-to-One LSTM"
   ]
  },
  {
   "cell_type": "markdown",
   "metadata": {},
   "source": [
    "### 0: Basic model with LSTM and Adding emotion"
   ]
  },
  {
   "cell_type": "code",
   "execution_count": 24,
   "metadata": {
    "collapsed": true
   },
   "outputs": [],
   "source": [
    "from keras.models import Model\n",
    "from keras.layers import LSTM, Dropout, Dense, Activation, Input, concatenate\n",
    "from keras.callbacks import ModelCheckpoint, EarlyStopping"
   ]
  },
  {
   "cell_type": "code",
   "execution_count": 30,
   "metadata": {
    "collapsed": true
   },
   "outputs": [],
   "source": [
    "seq = Input(shape=(Songs.shape[1], Songs.shape[2]))\n",
    "\n",
    "lstm11 = LSTM(512, return_sequences=True)(seq)\n",
    "lstm12 = Dropout(0.3)(lstm11)\n",
    "\n",
    "lstm21 = LSTM(512, return_sequences=True)(lstm12)\n",
    "lstm22 = Dropout(0.3)(lstm21)\n",
    "\n",
    "lstm31 = LSTM(256)(lstm22)\n",
    "emotion = Input(shape=(Emotions.shape[1], ))\n",
    "\n",
    "union = concatenate([lstm31, emotion])\n",
    "\n",
    "dense11 = Dense(256)(union)\n",
    "dense12 = Dropout(0.3)(dense11)\n",
    "\n",
    "dense2 = Dense(n_vocab - 1)(dense12)\n",
    "output = Activation('softmax')(dense2)\n",
    "\n",
    "model_0 = Model(inputs=[seq, emotion], outputs=[output])\n",
    "model_0.compile(loss='categorical_crossentropy', optimizer='rmsprop')"
   ]
  },
  {
   "cell_type": "markdown",
   "metadata": {},
   "source": [
    "### 1: LSTM with notes embedding"
   ]
  },
  {
   "cell_type": "code",
   "execution_count": 58,
   "metadata": {
    "collapsed": true
   },
   "outputs": [],
   "source": [
    "from keras.layers import Embedding"
   ]
  },
  {
   "cell_type": "code",
   "execution_count": 71,
   "metadata": {
    "collapsed": true
   },
   "outputs": [],
   "source": [
    "seq = Input(shape=(Songs.shape[1], ))\n",
    "\n",
    "note_emb = Embedding(input_dim=n_vocab, output_dim=3)(seq)\n",
    "\n",
    "lstm11 = LSTM(512, return_sequences=True)(note_emb)\n",
    "lstm12 = Dropout(0.3)(lstm11)\n",
    "\n",
    "lstm21 = LSTM(512, return_sequences=True)(lstm12)\n",
    "lstm22 = Dropout(0.3)(lstm21)\n",
    "\n",
    "lstm31 = LSTM(256)(lstm22)\n",
    "emotion = Input(shape=(Emotions.shape[1], ))\n",
    "\n",
    "union = concatenate([lstm31, emotion])\n",
    "\n",
    "dense11 = Dense(256)(union)\n",
    "dense12 = Dropout(0.3)(dense11)\n",
    "\n",
    "dense2 = Dense(n_vocab - 1)(dense12)\n",
    "output = Activation('softmax')(dense2)\n",
    "\n",
    "model_emb = Model(inputs=[seq, emotion], outputs=[output])\n",
    "model_emb.compile(loss='categorical_crossentropy', optimizer='rmsprop')"
   ]
  },
  {
   "cell_type": "markdown",
   "metadata": {},
   "source": [
    "### 2: LSTM + Emotions + Recover emotion"
   ]
  },
  {
   "cell_type": "code",
   "execution_count": 100,
   "metadata": {
    "collapsed": true
   },
   "outputs": [],
   "source": [
    "seq = Input(shape=(Songs.shape[1], ))\n",
    "\n",
    "note_emb = Embedding(input_dim=n_vocab, output_dim=3)(seq)\n",
    "\n",
    "lstm11 = LSTM(512, return_sequences=True)(note_emb)\n",
    "lstm12 = Dropout(0.3)(lstm11)\n",
    "\n",
    "lstm21 = LSTM(512, return_sequences=True)(lstm12)\n",
    "lstm22 = Dropout(0.3)(lstm21)\n",
    "\n",
    "lstm31 = LSTM(256)(lstm22)\n",
    "emotion = Input(shape=(Emotions.shape[1], ))\n",
    "\n",
    "union = concatenate([lstm31, emotion])\n",
    "\n",
    "dense11 = Dense(256)(union)\n",
    "dense12 = Dropout(0.3)(dense11)\n",
    "\n",
    "dense_note = Dense(n_vocab - 1)(dense12)\n",
    "output_note = Activation('softmax')(dense_note)\n",
    "\n",
    "dense_emot = Dense(n_emots)(dense12)\n",
    "output_emot = Activation('softmax')(dense_emot)\n",
    "\n",
    "model_2 = Model(inputs=[seq, emotion], outputs=[output_note, output_emot])\n",
    "model_2.compile(loss='categorical_crossentropy', \n",
    "                  optimizer='rmsprop')"
   ]
  },
  {
   "cell_type": "markdown",
   "metadata": {},
   "source": [
    "### 3: LSTM with Emotions input"
   ]
  },
  {
   "cell_type": "code",
   "execution_count": 136,
   "metadata": {
    "collapsed": true
   },
   "outputs": [],
   "source": [
    "from keras.layers import RepeatVector"
   ]
  },
  {
   "cell_type": "code",
   "execution_count": 137,
   "metadata": {
    "collapsed": true
   },
   "outputs": [],
   "source": [
    "seq = Input(shape=(Songs.shape[1], ))\n",
    "\n",
    "note_emb = Embedding(input_dim=n_vocab, output_dim=3)(seq)\n",
    "emotion = Input(shape=(Emotions.shape[1], ))\n",
    "\n",
    "union = concatenate([note_emb, RepeatVector(Songs.shape[1])(emotion)])\n",
    "\n",
    "lstm11 = LSTM(512, return_sequences=True)(union)\n",
    "lstm12 = Dropout(0.3)(lstm11)\n",
    "\n",
    "lstm21 = LSTM(512, return_sequences=True)(lstm12)\n",
    "lstm22 = Dropout(0.3)(lstm21)\n",
    "\n",
    "lstm31 = LSTM(256)(lstm22)\n",
    "\n",
    "dense11 = Dense(256)(lstm31)\n",
    "dense12 = Dropout(0.3)(dense11)\n",
    "\n",
    "dense_note = Dense(n_vocab - 1)(dense12)\n",
    "output_note = Activation('softmax')(dense_note)\n",
    "\n",
    "dense_emot = Dense(n_emots)(dense12)\n",
    "output_emot = Activation('softmax')(dense_emot)\n",
    "\n",
    "model_3 = Model(inputs=[seq, emotion], outputs=[output_note, output_emot])\n",
    "model_3.compile(loss='categorical_crossentropy', \n",
    "                  optimizer='rmsprop')"
   ]
  },
  {
   "cell_type": "code",
   "execution_count": 225,
   "metadata": {
    "collapsed": true
   },
   "outputs": [],
   "source": [
    "from sklearn.model_selection import train_test_split\n",
    "\n",
    "Song_train, Song_val, Emotion_train, Emotion_val, Out_train, Out_val = train_test_split(\n",
    "    Songs, Emotions, Outputs, test_size=0.1, shuffle=True)"
   ]
  },
  {
   "cell_type": "code",
   "execution_count": 227,
   "metadata": {},
   "outputs": [
    {
     "name": "stdout",
     "output_type": "stream",
     "text": [
      "Train on 235657 samples, validate on 26185 samples\n",
      "Epoch 1/30\n",
      "235657/235657 [==============================] - 217s 919us/step - loss: 0.2967 - dense_46_loss: 0.1780 - activation_22_loss: 0.1187 - val_loss: 0.0626 - val_dense_46_loss: 0.0613 - val_activation_22_loss: 0.0013\n",
      "Epoch 2/30\n",
      "235657/235657 [==============================] - 215s 910us/step - loss: 0.0907 - dense_46_loss: 0.0724 - activation_22_loss: 0.0183 - val_loss: 1.3750 - val_dense_46_loss: 0.0546 - val_activation_22_loss: 1.3204\n",
      "Epoch 3/30\n",
      "235657/235657 [==============================] - 212s 899us/step - loss: 0.0482 - dense_46_loss: 0.0421 - activation_22_loss: 0.0061 - val_loss: 0.0154 - val_dense_46_loss: 0.0154 - val_activation_22_loss: 9.2738e-06\n",
      "Epoch 4/30\n",
      " 64000/235657 [=======>......................] - ETA: 2:31 - loss: 0.0305 - dense_46_loss: 0.0296 - activation_22_loss: 8.7770e-04"
     ]
    },
    {
     "ename": "KeyboardInterrupt",
     "evalue": "",
     "output_type": "error",
     "traceback": [
      "\u001b[0;31m---------------------------------------------------------------------------\u001b[0m",
      "\u001b[0;31mKeyboardInterrupt\u001b[0m                         Traceback (most recent call last)",
      "\u001b[0;32m<ipython-input-227-4392b6bb82fb>\u001b[0m in \u001b[0;36m<module>\u001b[0;34m()\u001b[0m\n\u001b[1;32m     20\u001b[0m model.fit([Song_train, Emotion_train], [Out_train, Emotion_train], \n\u001b[1;32m     21\u001b[0m           \u001b[0mvalidation_data\u001b[0m\u001b[0;34m=\u001b[0m\u001b[0;34m(\u001b[0m\u001b[0;34m[\u001b[0m\u001b[0mSong_val\u001b[0m\u001b[0;34m,\u001b[0m \u001b[0mEmotion_val\u001b[0m\u001b[0;34m]\u001b[0m\u001b[0;34m,\u001b[0m \u001b[0;34m[\u001b[0m\u001b[0mOut_val\u001b[0m\u001b[0;34m,\u001b[0m \u001b[0mEmotion_val\u001b[0m\u001b[0;34m]\u001b[0m\u001b[0;34m)\u001b[0m\u001b[0;34m,\u001b[0m\u001b[0;34m\u001b[0m\u001b[0m\n\u001b[0;32m---> 22\u001b[0;31m           epochs=30, batch_size=512, callbacks=callbacks_list)\n\u001b[0m",
      "\u001b[0;32m~/anaconda3/lib/python3.6/site-packages/keras/engine/training.py\u001b[0m in \u001b[0;36mfit\u001b[0;34m(self, x, y, batch_size, epochs, verbose, callbacks, validation_split, validation_data, shuffle, class_weight, sample_weight, initial_epoch, steps_per_epoch, validation_steps, **kwargs)\u001b[0m\n\u001b[1;32m   1703\u001b[0m                               \u001b[0minitial_epoch\u001b[0m\u001b[0;34m=\u001b[0m\u001b[0minitial_epoch\u001b[0m\u001b[0;34m,\u001b[0m\u001b[0;34m\u001b[0m\u001b[0m\n\u001b[1;32m   1704\u001b[0m                               \u001b[0msteps_per_epoch\u001b[0m\u001b[0;34m=\u001b[0m\u001b[0msteps_per_epoch\u001b[0m\u001b[0;34m,\u001b[0m\u001b[0;34m\u001b[0m\u001b[0m\n\u001b[0;32m-> 1705\u001b[0;31m                               validation_steps=validation_steps)\n\u001b[0m\u001b[1;32m   1706\u001b[0m \u001b[0;34m\u001b[0m\u001b[0m\n\u001b[1;32m   1707\u001b[0m     def evaluate(self, x=None, y=None,\n",
      "\u001b[0;32m~/anaconda3/lib/python3.6/site-packages/keras/engine/training.py\u001b[0m in \u001b[0;36m_fit_loop\u001b[0;34m(self, f, ins, out_labels, batch_size, epochs, verbose, callbacks, val_f, val_ins, shuffle, callback_metrics, initial_epoch, steps_per_epoch, validation_steps)\u001b[0m\n\u001b[1;32m   1233\u001b[0m                         \u001b[0mins_batch\u001b[0m\u001b[0;34m[\u001b[0m\u001b[0mi\u001b[0m\u001b[0;34m]\u001b[0m \u001b[0;34m=\u001b[0m \u001b[0mins_batch\u001b[0m\u001b[0;34m[\u001b[0m\u001b[0mi\u001b[0m\u001b[0;34m]\u001b[0m\u001b[0;34m.\u001b[0m\u001b[0mtoarray\u001b[0m\u001b[0;34m(\u001b[0m\u001b[0;34m)\u001b[0m\u001b[0;34m\u001b[0m\u001b[0m\n\u001b[1;32m   1234\u001b[0m \u001b[0;34m\u001b[0m\u001b[0m\n\u001b[0;32m-> 1235\u001b[0;31m                     \u001b[0mouts\u001b[0m \u001b[0;34m=\u001b[0m \u001b[0mf\u001b[0m\u001b[0;34m(\u001b[0m\u001b[0mins_batch\u001b[0m\u001b[0;34m)\u001b[0m\u001b[0;34m\u001b[0m\u001b[0m\n\u001b[0m\u001b[1;32m   1236\u001b[0m                     \u001b[0;32mif\u001b[0m \u001b[0;32mnot\u001b[0m \u001b[0misinstance\u001b[0m\u001b[0;34m(\u001b[0m\u001b[0mouts\u001b[0m\u001b[0;34m,\u001b[0m \u001b[0mlist\u001b[0m\u001b[0;34m)\u001b[0m\u001b[0;34m:\u001b[0m\u001b[0;34m\u001b[0m\u001b[0m\n\u001b[1;32m   1237\u001b[0m                         \u001b[0mouts\u001b[0m \u001b[0;34m=\u001b[0m \u001b[0;34m[\u001b[0m\u001b[0mouts\u001b[0m\u001b[0;34m]\u001b[0m\u001b[0;34m\u001b[0m\u001b[0m\n",
      "\u001b[0;32m~/anaconda3/lib/python3.6/site-packages/keras/backend/tensorflow_backend.py\u001b[0m in \u001b[0;36m__call__\u001b[0;34m(self, inputs)\u001b[0m\n\u001b[1;32m   2476\u001b[0m         \u001b[0msession\u001b[0m \u001b[0;34m=\u001b[0m \u001b[0mget_session\u001b[0m\u001b[0;34m(\u001b[0m\u001b[0;34m)\u001b[0m\u001b[0;34m\u001b[0m\u001b[0m\n\u001b[1;32m   2477\u001b[0m         updated = session.run(fetches=fetches, feed_dict=feed_dict,\n\u001b[0;32m-> 2478\u001b[0;31m                               **self.session_kwargs)\n\u001b[0m\u001b[1;32m   2479\u001b[0m         \u001b[0;32mreturn\u001b[0m \u001b[0mupdated\u001b[0m\u001b[0;34m[\u001b[0m\u001b[0;34m:\u001b[0m\u001b[0mlen\u001b[0m\u001b[0;34m(\u001b[0m\u001b[0mself\u001b[0m\u001b[0;34m.\u001b[0m\u001b[0moutputs\u001b[0m\u001b[0;34m)\u001b[0m\u001b[0;34m]\u001b[0m\u001b[0;34m\u001b[0m\u001b[0m\n\u001b[1;32m   2480\u001b[0m \u001b[0;34m\u001b[0m\u001b[0m\n",
      "\u001b[0;32m~/anaconda3/lib/python3.6/site-packages/tensorflow/python/client/session.py\u001b[0m in \u001b[0;36mrun\u001b[0;34m(self, fetches, feed_dict, options, run_metadata)\u001b[0m\n\u001b[1;32m    903\u001b[0m     \u001b[0;32mtry\u001b[0m\u001b[0;34m:\u001b[0m\u001b[0;34m\u001b[0m\u001b[0m\n\u001b[1;32m    904\u001b[0m       result = self._run(None, fetches, feed_dict, options_ptr,\n\u001b[0;32m--> 905\u001b[0;31m                          run_metadata_ptr)\n\u001b[0m\u001b[1;32m    906\u001b[0m       \u001b[0;32mif\u001b[0m \u001b[0mrun_metadata\u001b[0m\u001b[0;34m:\u001b[0m\u001b[0;34m\u001b[0m\u001b[0m\n\u001b[1;32m    907\u001b[0m         \u001b[0mproto_data\u001b[0m \u001b[0;34m=\u001b[0m \u001b[0mtf_session\u001b[0m\u001b[0;34m.\u001b[0m\u001b[0mTF_GetBuffer\u001b[0m\u001b[0;34m(\u001b[0m\u001b[0mrun_metadata_ptr\u001b[0m\u001b[0;34m)\u001b[0m\u001b[0;34m\u001b[0m\u001b[0m\n",
      "\u001b[0;32m~/anaconda3/lib/python3.6/site-packages/tensorflow/python/client/session.py\u001b[0m in \u001b[0;36m_run\u001b[0;34m(self, handle, fetches, feed_dict, options, run_metadata)\u001b[0m\n\u001b[1;32m   1138\u001b[0m     \u001b[0;32mif\u001b[0m \u001b[0mfinal_fetches\u001b[0m \u001b[0;32mor\u001b[0m \u001b[0mfinal_targets\u001b[0m \u001b[0;32mor\u001b[0m \u001b[0;34m(\u001b[0m\u001b[0mhandle\u001b[0m \u001b[0;32mand\u001b[0m \u001b[0mfeed_dict_tensor\u001b[0m\u001b[0;34m)\u001b[0m\u001b[0;34m:\u001b[0m\u001b[0;34m\u001b[0m\u001b[0m\n\u001b[1;32m   1139\u001b[0m       results = self._do_run(handle, final_targets, final_fetches,\n\u001b[0;32m-> 1140\u001b[0;31m                              feed_dict_tensor, options, run_metadata)\n\u001b[0m\u001b[1;32m   1141\u001b[0m     \u001b[0;32melse\u001b[0m\u001b[0;34m:\u001b[0m\u001b[0;34m\u001b[0m\u001b[0m\n\u001b[1;32m   1142\u001b[0m       \u001b[0mresults\u001b[0m \u001b[0;34m=\u001b[0m \u001b[0;34m[\u001b[0m\u001b[0;34m]\u001b[0m\u001b[0;34m\u001b[0m\u001b[0m\n",
      "\u001b[0;32m~/anaconda3/lib/python3.6/site-packages/tensorflow/python/client/session.py\u001b[0m in \u001b[0;36m_do_run\u001b[0;34m(self, handle, target_list, fetch_list, feed_dict, options, run_metadata)\u001b[0m\n\u001b[1;32m   1319\u001b[0m     \u001b[0;32mif\u001b[0m \u001b[0mhandle\u001b[0m \u001b[0;32mis\u001b[0m \u001b[0;32mNone\u001b[0m\u001b[0;34m:\u001b[0m\u001b[0;34m\u001b[0m\u001b[0m\n\u001b[1;32m   1320\u001b[0m       return self._do_call(_run_fn, feeds, fetches, targets, options,\n\u001b[0;32m-> 1321\u001b[0;31m                            run_metadata)\n\u001b[0m\u001b[1;32m   1322\u001b[0m     \u001b[0;32melse\u001b[0m\u001b[0;34m:\u001b[0m\u001b[0;34m\u001b[0m\u001b[0m\n\u001b[1;32m   1323\u001b[0m       \u001b[0;32mreturn\u001b[0m \u001b[0mself\u001b[0m\u001b[0;34m.\u001b[0m\u001b[0m_do_call\u001b[0m\u001b[0;34m(\u001b[0m\u001b[0m_prun_fn\u001b[0m\u001b[0;34m,\u001b[0m \u001b[0mhandle\u001b[0m\u001b[0;34m,\u001b[0m \u001b[0mfeeds\u001b[0m\u001b[0;34m,\u001b[0m \u001b[0mfetches\u001b[0m\u001b[0;34m)\u001b[0m\u001b[0;34m\u001b[0m\u001b[0m\n",
      "\u001b[0;32m~/anaconda3/lib/python3.6/site-packages/tensorflow/python/client/session.py\u001b[0m in \u001b[0;36m_do_call\u001b[0;34m(self, fn, *args)\u001b[0m\n\u001b[1;32m   1325\u001b[0m   \u001b[0;32mdef\u001b[0m \u001b[0m_do_call\u001b[0m\u001b[0;34m(\u001b[0m\u001b[0mself\u001b[0m\u001b[0;34m,\u001b[0m \u001b[0mfn\u001b[0m\u001b[0;34m,\u001b[0m \u001b[0;34m*\u001b[0m\u001b[0margs\u001b[0m\u001b[0;34m)\u001b[0m\u001b[0;34m:\u001b[0m\u001b[0;34m\u001b[0m\u001b[0m\n\u001b[1;32m   1326\u001b[0m     \u001b[0;32mtry\u001b[0m\u001b[0;34m:\u001b[0m\u001b[0;34m\u001b[0m\u001b[0m\n\u001b[0;32m-> 1327\u001b[0;31m       \u001b[0;32mreturn\u001b[0m \u001b[0mfn\u001b[0m\u001b[0;34m(\u001b[0m\u001b[0;34m*\u001b[0m\u001b[0margs\u001b[0m\u001b[0;34m)\u001b[0m\u001b[0;34m\u001b[0m\u001b[0m\n\u001b[0m\u001b[1;32m   1328\u001b[0m     \u001b[0;32mexcept\u001b[0m \u001b[0merrors\u001b[0m\u001b[0;34m.\u001b[0m\u001b[0mOpError\u001b[0m \u001b[0;32mas\u001b[0m \u001b[0me\u001b[0m\u001b[0;34m:\u001b[0m\u001b[0;34m\u001b[0m\u001b[0m\n\u001b[1;32m   1329\u001b[0m       \u001b[0mmessage\u001b[0m \u001b[0;34m=\u001b[0m \u001b[0mcompat\u001b[0m\u001b[0;34m.\u001b[0m\u001b[0mas_text\u001b[0m\u001b[0;34m(\u001b[0m\u001b[0me\u001b[0m\u001b[0;34m.\u001b[0m\u001b[0mmessage\u001b[0m\u001b[0;34m)\u001b[0m\u001b[0;34m\u001b[0m\u001b[0m\n",
      "\u001b[0;32m~/anaconda3/lib/python3.6/site-packages/tensorflow/python/client/session.py\u001b[0m in \u001b[0;36m_run_fn\u001b[0;34m(feed_dict, fetch_list, target_list, options, run_metadata)\u001b[0m\n\u001b[1;32m   1310\u001b[0m       \u001b[0mself\u001b[0m\u001b[0;34m.\u001b[0m\u001b[0m_extend_graph\u001b[0m\u001b[0;34m(\u001b[0m\u001b[0;34m)\u001b[0m\u001b[0;34m\u001b[0m\u001b[0m\n\u001b[1;32m   1311\u001b[0m       return self._call_tf_sessionrun(\n\u001b[0;32m-> 1312\u001b[0;31m           options, feed_dict, fetch_list, target_list, run_metadata)\n\u001b[0m\u001b[1;32m   1313\u001b[0m \u001b[0;34m\u001b[0m\u001b[0m\n\u001b[1;32m   1314\u001b[0m     \u001b[0;32mdef\u001b[0m \u001b[0m_prun_fn\u001b[0m\u001b[0;34m(\u001b[0m\u001b[0mhandle\u001b[0m\u001b[0;34m,\u001b[0m \u001b[0mfeed_dict\u001b[0m\u001b[0;34m,\u001b[0m \u001b[0mfetch_list\u001b[0m\u001b[0;34m)\u001b[0m\u001b[0;34m:\u001b[0m\u001b[0;34m\u001b[0m\u001b[0m\n",
      "\u001b[0;32m~/anaconda3/lib/python3.6/site-packages/tensorflow/python/client/session.py\u001b[0m in \u001b[0;36m_call_tf_sessionrun\u001b[0;34m(self, options, feed_dict, fetch_list, target_list, run_metadata)\u001b[0m\n\u001b[1;32m   1418\u001b[0m         return tf_session.TF_Run(\n\u001b[1;32m   1419\u001b[0m             \u001b[0mself\u001b[0m\u001b[0;34m.\u001b[0m\u001b[0m_session\u001b[0m\u001b[0;34m,\u001b[0m \u001b[0moptions\u001b[0m\u001b[0;34m,\u001b[0m \u001b[0mfeed_dict\u001b[0m\u001b[0;34m,\u001b[0m \u001b[0mfetch_list\u001b[0m\u001b[0;34m,\u001b[0m \u001b[0mtarget_list\u001b[0m\u001b[0;34m,\u001b[0m\u001b[0;34m\u001b[0m\u001b[0m\n\u001b[0;32m-> 1420\u001b[0;31m             status, run_metadata)\n\u001b[0m\u001b[1;32m   1421\u001b[0m \u001b[0;34m\u001b[0m\u001b[0m\n\u001b[1;32m   1422\u001b[0m   \u001b[0;32mdef\u001b[0m \u001b[0m_call_tf_sessionprun\u001b[0m\u001b[0;34m(\u001b[0m\u001b[0mself\u001b[0m\u001b[0;34m,\u001b[0m \u001b[0mhandle\u001b[0m\u001b[0;34m,\u001b[0m \u001b[0mfeed_dict\u001b[0m\u001b[0;34m,\u001b[0m \u001b[0mfetch_list\u001b[0m\u001b[0;34m)\u001b[0m\u001b[0;34m:\u001b[0m\u001b[0;34m\u001b[0m\u001b[0m\n",
      "\u001b[0;31mKeyboardInterrupt\u001b[0m: "
     ]
    }
   ],
   "source": [
    "if MODEL == 0:\n",
    "    model = model_0\n",
    "elif MODEL == 1:\n",
    "    model = model_emb\n",
    "elif MODEL == 2:\n",
    "    model = model_2\n",
    "elif MODEL == 3:\n",
    "    model = model_3\n",
    "\n",
    "filepath = \"weights/model_{}.hdf5\".format(MODEL)   \n",
    "early_stop = EarlyStopping(monitor='val_loss', min_delta=0, patience=3, verbose=1, mode='auto')\n",
    "checkpoint = ModelCheckpoint(\n",
    "    filepath, monitor='val_loss', \n",
    "    verbose=0,        \n",
    "    save_best_only=True,        \n",
    "    mode='min'\n",
    ")    \n",
    "callbacks_list = [checkpoint, early_stop]     \n",
    "model.fit([Song_train, Emotion_train], [Out_train, Emotion_train], \n",
    "          validation_data=([Song_val, Emotion_val], [Out_val, Emotion_val]), \n",
    "          epochs=30, batch_size=512, callbacks=callbacks_list)"
   ]
  },
  {
   "cell_type": "code",
   "execution_count": 141,
   "metadata": {
    "collapsed": true
   },
   "outputs": [],
   "source": [
    "start = np.random.randint(0, len(Songs)-1)\n",
    "\n",
    "int_to_note = dict((number, note) for number, note in enumerate(pitchnames))\n",
    "\n",
    "pattern = Songs[start]"
   ]
  },
  {
   "cell_type": "code",
   "execution_count": 154,
   "metadata": {
    "collapsed": true
   },
   "outputs": [],
   "source": [
    "pattern = [note_to_int[char] for char in test_song[:100]]#test_song[0:100]"
   ]
  },
  {
   "cell_type": "code",
   "execution_count": 156,
   "metadata": {},
   "outputs": [
    {
     "data": {
      "application/vnd.jupyter.widget-view+json": {
       "model_id": "90abfc29933f420d967ba43a38e54a99",
       "version_major": 2,
       "version_minor": 0
      },
      "text/plain": [
       "HBox(children=(IntProgress(value=0, max=500), HTML(value='')))"
      ]
     },
     "metadata": {},
     "output_type": "display_data"
    },
    {
     "name": "stdout",
     "output_type": "stream",
     "text": [
      "0 0 0 0 0 0 0 0 0 0 0 0 0 0 0 0 0 0 0 0 0 0 0 0 0 0 0 0 0 0 0 0 0 0 0 0 0 0 0 0 0 0 0 0 0 0 0 0 0 0 0 0 0 0 0 0 0 0 0 0 0 0 0 0 0 0 0 0 0 0 0 0 0 0 0 0 0 0 0 0 0 0 0 0 0 0 0 0 0 0 0 0 0 0 0 0 0 0 0 0 0 0 0 0 0 0 0 0 0 0 0 0 0 0 0 0 0 0 0 0 0 0 0 0 0 0 0 0 0 0 0 0 0 0 0 0 0 0 0 0 0 0 0 0 0 0 0 0 0 0 0 0 0 0 0 0 0 0 0 0 0 0 0 0 0 0 0 0 0 0 0 0 0 0 0 0 0 0 0 0 0 0 0 0 0 0 0 0 0 0 0 0 0 0 0 0 0 0 0 0 0 0 0 0 0 0 0 0 0 0 0 0 0 0 0 0 0 0 0 0 0 0 0 0 0 0 0 0 0 0 0 0 0 0 0 0 0 0 0 0 0 0 0 0 0 0 0 0 0 0 0 0 0 0 0 0 0 0 0 0 0 0 0 0 0 0 0 0 0 0 0 0 0 0 0 0 0 0 0 0 0 0 0 0 0 0 0 0 0 0 0 0 0 0 0 0 0 0 0 0 0 0 0 0 0 0 0 0 0 0 0 0 0 0 0 0 0 0 0 0 0 0 0 0 0 0 0 0 0 0 0 0 0 0 0 0 0 0 0 0 0 0 0 0 0 0 0 0 0 0 0 0 0 0 0 0 0 0 0 0 0 0 0 0 0 0 0 0 0 0 0 0 0 0 0 0 0 0 0 0 0 0 0 0 0 0 0 0 0 0 0 0 0 0 0 0 0 0 0 0 0 0 0 0 0 0 0 0 0 0 0 0 0 0 0 0 0 0 0 0 0 0 0 0 0 0 0 0 0 0 0 0 0 0 0 0 0 0 0 0 0 0 0 0 0 0 0 0 0 0 0 0 0 0 0 0 0 0 0 0 0 0 0 0 0 0 0 0 0 0 0 0 0 0 0 0 0 0 0 0 0 0 0 0 0 0 0 0 0 0 0 0 0 0 0 0 0 0 0 0 "
     ]
    },
    {
     "data": {
      "application/vnd.jupyter.widget-view+json": {
       "model_id": "36eb8e37ea914be5a14c8bac2a693046",
       "version_major": 2,
       "version_minor": 0
      },
      "text/plain": [
       "HBox(children=(IntProgress(value=0, max=500), HTML(value='')))"
      ]
     },
     "metadata": {},
     "output_type": "display_data"
    },
    {
     "name": "stdout",
     "output_type": "stream",
     "text": [
      "1 1 1 1 1 1 1 1 1 1 1 1 1 1 1 1 1 1 1 1 1 1 1 1 1 1 1 1 1 1 1 1 1 1 1 1 1 1 1 1 1 1 1 1 1 1 1 1 1 1 1 1 1 1 1 1 1 1 1 1 1 1 1 1 1 1 1 1 1 1 1 1 1 1 1 1 1 1 1 1 1 1 1 1 1 1 1 1 1 1 1 1 1 1 1 1 1 1 1 1 1 1 1 1 1 1 1 1 1 1 1 1 1 1 1 1 1 1 1 1 1 1 1 1 1 1 1 1 1 1 1 1 1 1 1 1 1 1 1 1 1 1 1 1 1 1 1 1 1 1 1 1 1 1 1 1 1 1 1 1 1 1 1 1 1 1 1 1 1 1 1 1 1 1 1 1 1 1 1 1 1 1 1 1 1 1 1 1 1 1 1 1 1 1 1 1 1 1 1 1 1 1 1 1 1 1 1 1 1 1 1 1 1 1 1 1 1 1 1 1 1 1 1 1 1 1 1 1 1 1 1 1 1 1 1 1 1 1 1 1 1 1 1 1 1 1 1 1 1 1 1 1 1 1 1 1 1 1 1 1 1 1 1 1 1 1 1 1 1 1 1 1 1 1 1 1 1 1 1 1 1 1 1 1 1 1 1 1 1 1 1 1 1 1 1 1 1 1 1 1 1 1 1 1 1 1 1 1 1 1 1 1 1 1 1 1 1 1 1 1 1 1 1 1 1 1 1 1 1 1 1 1 1 1 1 1 1 1 1 1 1 1 1 1 1 1 1 1 1 1 1 1 1 1 1 1 1 1 1 1 1 1 1 1 1 1 1 1 1 1 1 1 1 1 1 1 1 1 1 1 1 1 1 1 1 1 1 1 1 1 1 1 1 1 1 1 1 1 1 1 1 1 1 1 1 1 1 1 1 1 1 1 1 1 1 1 1 1 1 1 1 1 1 1 1 1 1 1 1 1 1 1 1 1 1 1 1 1 1 1 1 1 1 1 1 1 1 1 1 1 1 1 1 1 1 1 1 1 1 1 1 1 1 1 1 1 1 1 1 1 1 1 1 1 1 1 1 1 1 1 1 1 1 1 1 1 1 1 1 1 1 1 1 1 1 1 1 1 1 1 "
     ]
    },
    {
     "data": {
      "application/vnd.jupyter.widget-view+json": {
       "model_id": "4dea870cc50d486d99dde974b6112cfa",
       "version_major": 2,
       "version_minor": 0
      },
      "text/plain": [
       "HBox(children=(IntProgress(value=0, max=500), HTML(value='')))"
      ]
     },
     "metadata": {},
     "output_type": "display_data"
    },
    {
     "name": "stdout",
     "output_type": "stream",
     "text": [
      "2 2 2 2 2 2 2 2 2 2 2 2 2 2 2 2 2 2 2 2 2 2 2 2 2 2 2 2 2 2 2 2 2 2 2 2 2 2 2 2 2 2 2 2 2 2 2 2 2 2 2 2 2 2 2 2 2 2 2 2 2 2 2 2 2 2 2 2 2 2 2 2 2 2 2 2 2 2 2 2 2 2 2 2 2 2 2 2 2 2 2 2 2 2 2 2 2 2 2 2 2 2 2 2 2 2 2 2 2 2 2 2 2 2 2 2 2 2 2 2 2 2 2 2 2 2 2 2 2 2 2 2 2 2 2 2 2 2 2 2 2 2 2 2 2 2 2 2 2 2 2 2 2 2 2 2 2 2 2 2 2 2 2 2 2 2 2 2 2 2 2 2 2 2 2 2 2 2 2 2 2 2 2 2 2 2 2 2 2 2 2 2 2 2 2 2 2 2 2 2 2 2 2 2 2 2 2 2 2 2 2 2 2 2 2 2 2 2 2 2 2 2 2 2 2 2 2 2 2 2 2 2 2 2 2 2 2 2 2 2 2 2 2 2 2 2 2 2 2 2 2 2 2 2 2 2 2 2 2 2 2 2 2 2 2 2 2 2 2 2 2 2 2 2 2 2 2 2 2 2 2 2 2 2 2 2 2 2 2 2 2 2 2 2 2 2 2 2 2 2 2 2 2 2 2 2 2 2 2 2 2 2 2 2 2 2 2 2 2 2 2 2 2 2 2 2 2 2 2 2 2 2 2 2 2 2 2 2 2 2 2 2 2 2 2 2 2 2 2 2 2 2 2 2 2 2 2 2 2 2 2 2 2 2 2 2 2 2 2 2 2 2 2 2 2 2 2 2 2 2 2 2 2 2 2 2 2 2 2 2 2 2 2 2 2 2 2 2 2 2 2 2 2 2 2 2 2 2 2 2 2 2 2 2 2 2 2 2 2 2 2 2 2 2 2 2 2 2 2 2 2 2 2 2 2 2 2 2 2 2 2 2 2 2 2 2 2 2 2 2 2 2 2 2 2 2 2 2 2 2 2 2 2 2 2 2 2 2 2 2 2 2 2 2 2 2 2 2 2 2 2 2 2 2 2 2 2 2 2 2 2 2 2 2 2 2 2 2 2 2 "
     ]
    }
   ],
   "source": [
    "outputs = {}\n",
    "emotions = {'sad': [1, 0, 0], 'energetic': [0, 1, 0], 'romantic': [0, 0, 1]}\n",
    "\n",
    "for label, emotion in emotions.items(): \n",
    "    prediction_output = []\n",
    "    # generate 500 notes\n",
    "    for note_index in tqdm(range(500)):\n",
    "        if MODEL == 0:\n",
    "            prediction_input = np.reshape(pattern, (1, len(pattern), 1))\n",
    "        elif MODEL > 0:\n",
    "            prediction_input = np.reshape(pattern, (1, len(pattern)))\n",
    "        emotion_input = np.reshape(emotion, (1, len(emotion)))\n",
    "\n",
    "        prediction = model.predict([prediction_input, emotion_input], verbose=0)\n",
    "        if MODEL < 2:\n",
    "            index = np.argmax(prediction)\n",
    "        if MODEL == 2 or MODEL == 3:\n",
    "            print(np.argmax(prediction[1]), end=' ')\n",
    "            index = np.argmax(prediction[0])\n",
    "        result = int_to_note[index]\n",
    "        if result == 'End':\n",
    "            break\n",
    "            \n",
    "        prediction_output.append(result)\n",
    "        pattern = np.append(pattern, index / (float(n_vocab) - 1))\n",
    "        pattern = pattern[1:len(pattern)]\n",
    "    outputs[label] = prediction_output"
   ]
  },
  {
   "cell_type": "code",
   "execution_count": 157,
   "metadata": {
    "collapsed": true
   },
   "outputs": [],
   "source": [
    "from music21 import converter, instrument, note, chord, stream"
   ]
  },
  {
   "cell_type": "code",
   "execution_count": 158,
   "metadata": {
    "collapsed": true
   },
   "outputs": [],
   "source": [
    "output_songs = {}\n",
    "\n",
    "for label, prediction_output in outputs.items():\n",
    "    offset = 0\n",
    "    output_notes = []\n",
    "    # create note and chord objects based on the values generated by the model\n",
    "    for pattern in prediction_output:\n",
    "        # pattern is a chord\n",
    "        if ('.' in pattern) or pattern.isdigit():\n",
    "            notes_in_chord = pattern.split('.')\n",
    "            notes = []\n",
    "            for current_note in notes_in_chord:\n",
    "                new_note = note.Note(int(current_note))\n",
    "                new_note.storedInstrument = instrument.Piano()\n",
    "                notes.append(new_note)\n",
    "            new_chord = chord.Chord(notes)\n",
    "            new_chord.offset = offset\n",
    "            output_notes.append(new_chord)\n",
    "        # pattern is a note\n",
    "        else:\n",
    "            new_note = note.Note(pattern)\n",
    "            new_note.offset = offset\n",
    "            new_note.storedInstrument = instrument.Piano()\n",
    "            output_notes.append(new_note)\n",
    "        # increase offset each iteration so that notes do not stack\n",
    "        offset += 0.5\n",
    "    output_songs[label] = output_notes"
   ]
  },
  {
   "cell_type": "code",
   "execution_count": 159,
   "metadata": {},
   "outputs": [
    {
     "name": "stdout",
     "output_type": "stream",
     "text": [
      "sad\n"
     ]
    },
    {
     "data": {
      "text/html": [
       "\n",
       "                <div id='midiPlayerDiv156579'></div>\n",
       "                <link rel=\"stylesheet\" href=\"//cuthbertLab.github.io/music21j/css/m21.css\"\n",
       "                    type=\"text/css\" />\n",
       "                <script>\n",
       "                require.config({\n",
       "                    paths: {'music21': '//cuthbertLab.github.io/music21j/src/music21'}\n",
       "                });\n",
       "                require(['music21'], function() {\n",
       "                               mp = new music21.miditools.MidiPlayer();\n",
       "                               mp.addPlayer('#midiPlayerDiv156579');\n",
       "                               mp.base64Load('data:audio/midi;base64,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');\n",
       "                        });\n",
       "                </script>"
      ],
      "text/plain": [
       "<IPython.core.display.HTML object>"
      ]
     },
     "metadata": {},
     "output_type": "display_data"
    },
    {
     "name": "stdout",
     "output_type": "stream",
     "text": [
      "energetic\n"
     ]
    },
    {
     "data": {
      "text/html": [
       "\n",
       "                <div id='midiPlayerDiv163080'></div>\n",
       "                <link rel=\"stylesheet\" href=\"//cuthbertLab.github.io/music21j/css/m21.css\"\n",
       "                    type=\"text/css\" />\n",
       "                <script>\n",
       "                require.config({\n",
       "                    paths: {'music21': '//cuthbertLab.github.io/music21j/src/music21'}\n",
       "                });\n",
       "                require(['music21'], function() {\n",
       "                               mp = new music21.miditools.MidiPlayer();\n",
       "                               mp.addPlayer('#midiPlayerDiv163080');\n",
       "                               mp.base64Load('data:audio/midi;base64,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');\n",
       "                        });\n",
       "                </script>"
      ],
      "text/plain": [
       "<IPython.core.display.HTML object>"
      ]
     },
     "metadata": {},
     "output_type": "display_data"
    },
    {
     "name": "stdout",
     "output_type": "stream",
     "text": [
      "romantic\n"
     ]
    },
    {
     "data": {
      "text/html": [
       "\n",
       "                <div id='midiPlayerDiv169581'></div>\n",
       "                <link rel=\"stylesheet\" href=\"//cuthbertLab.github.io/music21j/css/m21.css\"\n",
       "                    type=\"text/css\" />\n",
       "                <script>\n",
       "                require.config({\n",
       "                    paths: {'music21': '//cuthbertLab.github.io/music21j/src/music21'}\n",
       "                });\n",
       "                require(['music21'], function() {\n",
       "                               mp = new music21.miditools.MidiPlayer();\n",
       "                               mp.addPlayer('#midiPlayerDiv169581');\n",
       "                               mp.base64Load('data:audio/midi;base64,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');\n",
       "                        });\n",
       "                </script>"
      ],
      "text/plain": [
       "<IPython.core.display.HTML object>"
      ]
     },
     "metadata": {},
     "output_type": "display_data"
    }
   ],
   "source": [
    "for label, output_notes in output_songs.items():\n",
    "    midi_stream = stream.Stream(output_notes)\n",
    "    print(label)\n",
    "    midi_stream.write('midi', fp='{}_31.mid'.format(label))\n",
    "    midi_stream.show('midi')"
   ]
  },
  {
   "cell_type": "code",
   "execution_count": 178,
   "metadata": {},
   "outputs": [
    {
     "name": "stdout",
     "output_type": "stream",
     "text": [
      "{0.0} <music21.stream.Part 0x7fdfd9e17c88>\n",
      "    {0.0} <music21.chord.Chord A4 C4>\n",
      "    {0.5} <music21.note.Rest rest>\n",
      "    {1.0} <music21.chord.Chord A4 C4>\n",
      "    {1.5} <music21.chord.Chord A4 C4>\n",
      "    {2.0} <music21.chord.Chord A4 C4>\n",
      "    {2.5} <music21.chord.Chord A4 C4>\n",
      "    {3.0} <music21.chord.Chord A4 C4>\n",
      "    {3.5} <music21.chord.Chord A4 C4>\n",
      "    {4.0} <music21.chord.Chord A4 C4>\n",
      "    {4.5} <music21.chord.Chord A4 C4>\n",
      "    {5.0} <music21.chord.Chord A4 C4>\n",
      "    {5.5} <music21.chord.Chord A4 C4>\n",
      "    {6.0} <music21.chord.Chord A4 C4>\n",
      "    {6.5} <music21.chord.Chord A4 C4>\n",
      "    {7.0} <music21.chord.Chord A4 C4>\n",
      "    {7.5} <music21.chord.Chord A4 C4>\n",
      "    {8.0} <music21.chord.Chord A4 C4>\n",
      "    {8.5} <music21.chord.Chord A4 C4>\n",
      "    {9.0} <music21.chord.Chord A4 C4>\n",
      "    {9.5} <music21.chord.Chord A4 C4>\n",
      "    {10.0} <music21.chord.Chord A4 C4>\n",
      "    {10.5} <music21.chord.Chord A4 C4>\n",
      "    {11.0} <music21.chord.Chord A4 C4>\n",
      "    {11.5} <music21.chord.Chord A4 C4>\n",
      "    {12.0} <music21.chord.Chord A4 C4>\n",
      "    {12.5} <music21.chord.Chord A4 C4>\n",
      "    {13.0} <music21.chord.Chord A4 C4>\n",
      "    {13.5} <music21.chord.Chord A4 C4>\n",
      "    {14.0} <music21.chord.Chord A4 C4>\n",
      "    {14.5} <music21.chord.Chord A4 C4>\n",
      "    {15.0} <music21.chord.Chord A4 C4>\n",
      "    {15.5} <music21.chord.Chord A4 C4>\n",
      "    {16.0} <music21.chord.Chord A4 C4>\n",
      "    {16.5} <music21.chord.Chord A4 C4>\n",
      "    {17.0} <music21.chord.Chord A4 C4>\n",
      "    {17.5} <music21.chord.Chord A4 C4>\n",
      "    {18.0} <music21.chord.Chord A4 C4>\n",
      "    {18.5} <music21.chord.Chord A4 C4>\n",
      "    {19.0} <music21.chord.Chord A4 C4>\n",
      "    {19.5} <music21.chord.Chord A4 C4>\n",
      "    {20.0} <music21.chord.Chord A4 C4>\n",
      "    {20.5} <music21.chord.Chord A4 C4>\n",
      "    {21.0} <music21.chord.Chord A4 C4>\n",
      "    {21.5} <music21.chord.Chord A4 C4>\n",
      "    {22.0} <music21.chord.Chord A4 C4>\n",
      "    {22.5} <music21.chord.Chord A4 C4>\n",
      "    {23.0} <music21.chord.Chord A4 C4>\n",
      "    {23.5} <music21.chord.Chord A4 C4>\n",
      "    {24.0} <music21.chord.Chord A4 C4>\n",
      "    {24.5} <music21.chord.Chord A4 C4>\n",
      "    {25.0} <music21.chord.Chord A4 C4>\n",
      "    {25.5} <music21.chord.Chord A4 C4>\n",
      "    {26.0} <music21.chord.Chord A4 C4>\n",
      "    {26.5} <music21.chord.Chord A4 C4>\n",
      "    {27.0} <music21.chord.Chord A4 C4>\n",
      "    {27.5} <music21.chord.Chord A4 C4>\n",
      "    {28.0} <music21.chord.Chord A4 C4>\n",
      "    {28.5} <music21.chord.Chord A4 C4>\n",
      "    {29.0} <music21.chord.Chord A4 C4>\n",
      "    {29.5} <music21.chord.Chord A4 C4>\n",
      "    {30.0} <music21.chord.Chord A4 C4>\n",
      "    {30.5} <music21.chord.Chord A4 C4>\n",
      "    {31.0} <music21.chord.Chord A4 C4>\n",
      "    {31.5} <music21.chord.Chord A4 C4>\n",
      "    {32.0} <music21.chord.Chord A4 C4>\n",
      "    {32.5} <music21.chord.Chord A4 C4>\n",
      "    {33.0} <music21.chord.Chord A4 C4>\n",
      "    {33.5} <music21.chord.Chord A4 C4>\n",
      "    {34.0} <music21.chord.Chord A4 C4>\n",
      "    {34.5} <music21.chord.Chord A4 C4>\n",
      "    {35.0} <music21.chord.Chord A4 C4>\n",
      "    {35.5} <music21.chord.Chord A4 C4>\n",
      "    {36.0} <music21.chord.Chord A4 C4>\n",
      "    {36.5} <music21.chord.Chord A4 C4>\n",
      "    {37.0} <music21.chord.Chord A4 C4>\n",
      "    {37.5} <music21.chord.Chord A4 C4>\n",
      "    {38.0} <music21.chord.Chord A4 C4>\n",
      "    {38.5} <music21.chord.Chord A4 C4>\n",
      "    {39.0} <music21.chord.Chord A4 C4>\n",
      "    {39.5} <music21.chord.Chord A4 C4>\n",
      "    {40.0} <music21.chord.Chord A4 C4>\n",
      "    {40.5} <music21.chord.Chord A4 C4>\n",
      "    {41.0} <music21.chord.Chord A4 C4>\n",
      "    {41.5} <music21.chord.Chord A4 C4>\n",
      "    {42.0} <music21.chord.Chord A4 C4>\n",
      "    {42.5} <music21.chord.Chord A4 C4>\n",
      "    {43.0} <music21.chord.Chord A4 C4>\n",
      "    {43.5} <music21.chord.Chord A4 C4>\n",
      "    {44.0} <music21.chord.Chord A4 C4>\n",
      "    {44.5} <music21.chord.Chord A4 C4>\n",
      "    {45.0} <music21.chord.Chord A4 C4>\n",
      "    {45.5} <music21.chord.Chord A4 C4>\n",
      "    {46.0} <music21.chord.Chord A4 C4>\n",
      "    {46.5} <music21.chord.Chord A4 C4>\n",
      "    {47.0} <music21.chord.Chord A4 C4>\n",
      "    {47.5} <music21.chord.Chord A4 C4>\n",
      "    {48.0} <music21.chord.Chord A4 C4>\n",
      "    {48.5} <music21.chord.Chord A4 C4>\n",
      "    {49.0} <music21.chord.Chord A4 C4>\n",
      "    {49.5} <music21.chord.Chord A4 C4>\n",
      "    {50.0} <music21.chord.Chord A4 C4>\n",
      "    {50.5} <music21.chord.Chord A4 C4>\n",
      "    {51.0} <music21.chord.Chord A4 C4>\n",
      "    {51.5} <music21.chord.Chord A4 C4>\n",
      "    {52.0} <music21.chord.Chord A4 C4>\n",
      "    {52.5} <music21.chord.Chord A4 C4>\n",
      "    {53.0} <music21.chord.Chord A4 C4>\n",
      "    {53.5} <music21.chord.Chord A4 C4>\n",
      "    {54.0} <music21.chord.Chord A4 C4>\n",
      "    {54.5} <music21.chord.Chord A4 C4>\n",
      "    {55.0} <music21.chord.Chord A4 C4>\n",
      "    {55.5} <music21.chord.Chord A4 C4>\n",
      "    {56.0} <music21.chord.Chord A4 C4>\n",
      "    {56.5} <music21.chord.Chord A4 C4>\n",
      "    {57.0} <music21.chord.Chord A4 C4>\n",
      "    {57.5} <music21.chord.Chord A4 C4>\n",
      "    {58.0} <music21.chord.Chord A4 C4>\n",
      "    {58.5} <music21.chord.Chord A4 C4>\n",
      "    {59.0} <music21.chord.Chord A4 C4>\n",
      "    {59.5} <music21.chord.Chord A4 C4>\n",
      "    {60.0} <music21.chord.Chord A4 C4>\n",
      "    {60.5} <music21.chord.Chord A4 C4>\n",
      "    {61.0} <music21.chord.Chord A4 C4>\n",
      "    {61.5} <music21.chord.Chord A4 C4>\n",
      "    {62.0} <music21.chord.Chord A4 C4>\n",
      "    {62.5} <music21.chord.Chord A4 C4>\n",
      "    {63.0} <music21.chord.Chord A4 C4>\n",
      "    {63.5} <music21.chord.Chord A4 C4>\n",
      "    {64.0} <music21.chord.Chord A4 C4>\n",
      "    {64.5} <music21.chord.Chord A4 C4>\n",
      "    {65.0} <music21.chord.Chord A4 C4>\n",
      "    {65.5} <music21.chord.Chord A4 C4>\n",
      "    {66.0} <music21.chord.Chord A4 C4>\n",
      "    {66.5} <music21.chord.Chord A4 C4>\n",
      "    {67.0} <music21.chord.Chord A4 C4>\n",
      "    {67.5} <music21.chord.Chord A4 C4>\n",
      "    {68.0} <music21.chord.Chord A4 C4>\n",
      "    {68.5} <music21.chord.Chord A4 C4>\n",
      "    {69.0} <music21.chord.Chord A4 C4>\n",
      "    {69.5} <music21.chord.Chord A4 C4>\n",
      "    {70.0} <music21.chord.Chord A4 C4>\n",
      "    {70.5} <music21.chord.Chord A4 C4>\n",
      "    {71.0} <music21.chord.Chord A4 C4>\n",
      "    {71.5} <music21.chord.Chord A4 C4>\n",
      "    {72.0} <music21.chord.Chord A4 C4>\n",
      "    {72.5} <music21.chord.Chord A4 C4>\n",
      "    {73.0} <music21.chord.Chord A4 C4>\n",
      "    {73.5} <music21.chord.Chord A4 C4>\n",
      "    {74.0} <music21.chord.Chord A4 C4>\n",
      "    {74.5} <music21.chord.Chord A4 C4>\n",
      "    {75.0} <music21.chord.Chord A4 C4>\n",
      "    {75.5} <music21.chord.Chord A4 C4>\n",
      "    {76.0} <music21.chord.Chord A4 C4>\n",
      "    {76.5} <music21.chord.Chord A4 C4>\n",
      "    {77.0} <music21.chord.Chord A4 C4>\n",
      "    {77.5} <music21.chord.Chord A4 C4>\n",
      "    {78.0} <music21.chord.Chord A4 C4>\n",
      "    {78.5} <music21.chord.Chord A4 C4>\n",
      "    {79.0} <music21.chord.Chord A4 C4>\n",
      "    {79.5} <music21.chord.Chord A4 C4>\n",
      "    {80.0} <music21.chord.Chord A4 C4>\n",
      "    {80.5} <music21.chord.Chord A4 C4>\n",
      "    {81.0} <music21.chord.Chord A4 C4>\n",
      "    {81.5} <music21.chord.Chord A4 C4>\n",
      "    {82.0} <music21.chord.Chord A4 C4>\n",
      "    {82.5} <music21.chord.Chord A4 C4>\n",
      "    {83.0} <music21.chord.Chord A4 C4>\n",
      "    {83.5} <music21.chord.Chord A4 C4>\n",
      "    {84.0} <music21.chord.Chord A4 C4>\n",
      "    {84.5} <music21.chord.Chord A4 C4>\n",
      "    {85.0} <music21.chord.Chord A4 C4>\n",
      "    {85.5} <music21.chord.Chord A4 C4>\n",
      "    {86.0} <music21.chord.Chord A4 C4>\n",
      "    {86.5} <music21.chord.Chord A4 C4>\n",
      "    {87.0} <music21.chord.Chord A4 C4>\n",
      "    {87.5} <music21.chord.Chord A4 C4>\n",
      "    {88.0} <music21.chord.Chord A4 C4>\n",
      "    {88.5} <music21.chord.Chord A4 C4>\n",
      "    {89.0} <music21.chord.Chord A4 C4>\n",
      "    {89.5} <music21.chord.Chord A4 C4>\n",
      "    {90.0} <music21.chord.Chord A4 C4>\n",
      "    {90.5} <music21.chord.Chord A4 C4>\n",
      "    {91.0} <music21.chord.Chord A4 C4>\n",
      "    {91.5} <music21.chord.Chord A4 C4>\n",
      "    {92.0} <music21.chord.Chord A4 C4>\n",
      "    {92.5} <music21.chord.Chord A4 C4>\n",
      "    {93.0} <music21.chord.Chord A4 C4>\n",
      "    {93.5} <music21.chord.Chord A4 C4>\n",
      "    {94.0} <music21.chord.Chord A4 C4>\n",
      "    {94.5} <music21.chord.Chord A4 C4>\n",
      "    {95.0} <music21.chord.Chord A4 C4>\n",
      "    {95.5} <music21.chord.Chord A4 C4>\n",
      "    {96.0} <music21.chord.Chord A4 C4>\n",
      "    {96.5} <music21.chord.Chord A4 C4>\n",
      "    {97.0} <music21.chord.Chord A4 C4>\n",
      "    {97.5} <music21.chord.Chord A4 C4>\n",
      "    {98.0} <music21.chord.Chord A4 C4>\n",
      "    {98.5} <music21.chord.Chord A4 C4>\n",
      "    {99.0} <music21.chord.Chord A4 C4>\n",
      "    {99.5} <music21.chord.Chord A4 C4>\n",
      "    {100.0} <music21.chord.Chord A4 C4>\n",
      "    {100.5} <music21.chord.Chord A4 C4>\n",
      "    {101.0} <music21.chord.Chord A4 C4>\n",
      "    {101.5} <music21.chord.Chord A4 C4>\n",
      "    {102.0} <music21.chord.Chord A4 C4>\n",
      "    {102.5} <music21.chord.Chord A4 C4>\n",
      "    {103.0} <music21.chord.Chord A4 C4>\n",
      "    {103.5} <music21.chord.Chord A4 C4>\n",
      "    {104.0} <music21.chord.Chord A4 C4>\n",
      "    {104.5} <music21.chord.Chord A4 C4>\n",
      "    {105.0} <music21.chord.Chord A4 C4>\n",
      "    {105.5} <music21.chord.Chord A4 C4>\n",
      "    {106.0} <music21.chord.Chord A4 C4>\n",
      "    {106.5} <music21.chord.Chord A4 C4>\n",
      "    {107.0} <music21.chord.Chord A4 C4>\n",
      "    {107.5} <music21.chord.Chord A4 C4>\n",
      "    {108.0} <music21.chord.Chord A4 C4>\n",
      "    {108.5} <music21.chord.Chord A4 C4>\n",
      "    {109.0} <music21.chord.Chord A4 C4>\n",
      "    {109.5} <music21.chord.Chord A4 C4>\n",
      "    {110.0} <music21.chord.Chord A4 C4>\n",
      "    {110.5} <music21.chord.Chord A4 C4>\n",
      "    {111.0} <music21.chord.Chord A4 C4>\n",
      "    {111.5} <music21.chord.Chord A4 C4>\n",
      "    {112.0} <music21.chord.Chord A4 C4>\n",
      "    {112.5} <music21.chord.Chord A4 C4>\n",
      "    {113.0} <music21.chord.Chord A4 C4>\n",
      "    {113.5} <music21.chord.Chord A4 C4>\n",
      "    {114.0} <music21.chord.Chord A4 C4>\n",
      "    {114.5} <music21.chord.Chord A4 C4>\n",
      "    {115.0} <music21.chord.Chord A4 C4>\n",
      "    {115.5} <music21.chord.Chord A4 C4>\n",
      "    {116.0} <music21.chord.Chord A4 C4>\n",
      "    {116.5} <music21.chord.Chord A4 C4>\n",
      "    {117.0} <music21.chord.Chord A4 C4>\n",
      "    {117.5} <music21.chord.Chord A4 C4>\n",
      "    {118.0} <music21.chord.Chord A4 C4>\n",
      "    {118.5} <music21.chord.Chord A4 C4>\n",
      "    {119.0} <music21.chord.Chord A4 C4>\n",
      "    {119.5} <music21.chord.Chord A4 C4>\n",
      "    {120.0} <music21.chord.Chord A4 C4>\n",
      "    {120.5} <music21.chord.Chord A4 C4>\n",
      "    {121.0} <music21.chord.Chord A4 C4>\n",
      "    {121.5} <music21.chord.Chord A4 C4>\n",
      "    {122.0} <music21.chord.Chord A4 C4>\n",
      "    {122.5} <music21.chord.Chord A4 C4>\n",
      "    {123.0} <music21.chord.Chord A4 C4>\n",
      "    {123.5} <music21.chord.Chord A4 C4>\n",
      "    {124.0} <music21.chord.Chord A4 C4>\n",
      "    {124.5} <music21.chord.Chord A4 C4>\n",
      "    {125.0} <music21.chord.Chord A4 C4>\n",
      "    {125.5} <music21.chord.Chord A4 C4>\n",
      "    {126.0} <music21.chord.Chord A4 C4>\n",
      "    {126.5} <music21.chord.Chord A4 C4>\n",
      "    {127.0} <music21.chord.Chord A4 C4>\n",
      "    {127.5} <music21.chord.Chord A4 C4>\n",
      "    {128.0} <music21.chord.Chord A4 C4>\n",
      "    {128.5} <music21.chord.Chord A4 C4>\n",
      "    {129.0} <music21.chord.Chord A4 C4>\n",
      "    {129.5} <music21.chord.Chord A4 C4>\n",
      "    {130.0} <music21.chord.Chord A4 C4>\n",
      "    {130.5} <music21.chord.Chord A4 C4>\n",
      "    {131.0} <music21.chord.Chord A4 C4>\n",
      "    {131.5} <music21.chord.Chord A4 C4>\n",
      "    {132.0} <music21.chord.Chord A4 C4>\n",
      "    {132.5} <music21.chord.Chord A4 C4>\n",
      "    {133.0} <music21.chord.Chord A4 C4>\n",
      "    {133.5} <music21.chord.Chord A4 C4>\n",
      "    {134.0} <music21.chord.Chord A4 C4>\n",
      "    {134.5} <music21.chord.Chord A4 C4>\n",
      "    {135.0} <music21.chord.Chord A4 C4>\n",
      "    {135.5} <music21.chord.Chord A4 C4>\n",
      "    {136.0} <music21.chord.Chord A4 C4>\n",
      "    {136.5} <music21.chord.Chord A4 C4>\n",
      "    {137.0} <music21.chord.Chord A4 C4>\n",
      "    {137.5} <music21.chord.Chord A4 C4>\n",
      "    {138.0} <music21.chord.Chord A4 C4>\n",
      "    {138.5} <music21.chord.Chord A4 C4>\n",
      "    {139.0} <music21.chord.Chord A4 C4>\n",
      "    {139.5} <music21.chord.Chord A4 C4>\n",
      "    {140.0} <music21.chord.Chord A4 C4>\n",
      "    {140.5} <music21.chord.Chord A4 C4>\n",
      "    {141.0} <music21.chord.Chord A4 C4>\n",
      "    {141.5} <music21.chord.Chord A4 C4>\n",
      "    {142.0} <music21.chord.Chord A4 C4>\n",
      "    {142.5} <music21.chord.Chord A4 C4>\n",
      "    {143.0} <music21.chord.Chord A4 C4>\n",
      "    {143.5} <music21.chord.Chord A4 C4>\n",
      "    {144.0} <music21.chord.Chord A4 C4>\n",
      "    {144.5} <music21.chord.Chord A4 C4>\n",
      "    {145.0} <music21.chord.Chord A4 C4>\n",
      "    {145.5} <music21.chord.Chord A4 C4>\n",
      "    {146.0} <music21.chord.Chord A4 C4>\n",
      "    {146.5} <music21.chord.Chord A4 C4>\n",
      "    {147.0} <music21.chord.Chord A4 C4>\n",
      "    {147.5} <music21.chord.Chord A4 C4>\n",
      "    {148.0} <music21.chord.Chord A4 C4>\n",
      "    {148.5} <music21.chord.Chord A4 C4>\n",
      "    {149.0} <music21.chord.Chord A4 C4>\n",
      "    {149.5} <music21.chord.Chord A4 C4>\n",
      "    {150.0} <music21.chord.Chord A4 C4>\n",
      "    {150.5} <music21.chord.Chord A4 C4>\n",
      "    {151.0} <music21.chord.Chord A4 C4>\n",
      "    {151.5} <music21.chord.Chord A4 C4>\n",
      "    {152.0} <music21.chord.Chord A4 C4>\n",
      "    {152.5} <music21.chord.Chord A4 C4>\n",
      "    {153.0} <music21.chord.Chord A4 C4>\n",
      "    {153.5} <music21.chord.Chord A4 C4>\n",
      "    {154.0} <music21.chord.Chord A4 C4>\n",
      "    {154.5} <music21.chord.Chord A4 C4>\n",
      "    {155.0} <music21.chord.Chord A4 C4>\n",
      "    {155.5} <music21.chord.Chord A4 C4>\n",
      "    {156.0} <music21.chord.Chord A4 C4>\n",
      "    {156.5} <music21.chord.Chord A4 C4>\n",
      "    {157.0} <music21.chord.Chord A4 C4>\n",
      "    {157.5} <music21.chord.Chord A4 C4>\n",
      "    {158.0} <music21.chord.Chord A4 C4>\n",
      "    {158.5} <music21.chord.Chord A4 C4>\n",
      "    {159.0} <music21.chord.Chord A4 C4>\n",
      "    {159.5} <music21.chord.Chord A4 C4>\n",
      "    {160.0} <music21.chord.Chord A4 C4>\n",
      "    {160.5} <music21.chord.Chord A4 C4>\n",
      "    {161.0} <music21.chord.Chord A4 C4>\n",
      "    {161.5} <music21.chord.Chord A4 C4>\n",
      "    {162.0} <music21.chord.Chord A4 C4>\n",
      "    {162.5} <music21.chord.Chord A4 C4>\n",
      "    {163.0} <music21.chord.Chord A4 C4>\n",
      "    {163.5} <music21.chord.Chord A4 C4>\n",
      "    {164.0} <music21.chord.Chord A4 C4>\n",
      "    {164.5} <music21.chord.Chord A4 C4>\n",
      "    {165.0} <music21.chord.Chord A4 C4>\n",
      "    {165.5} <music21.chord.Chord A4 C4>\n",
      "    {166.0} <music21.chord.Chord A4 C4>\n",
      "    {166.5} <music21.chord.Chord A4 C4>\n",
      "    {167.0} <music21.chord.Chord A4 C4>\n",
      "    {167.5} <music21.chord.Chord A4 C4>\n",
      "    {168.0} <music21.chord.Chord A4 C4>\n",
      "    {168.5} <music21.chord.Chord A4 C4>\n",
      "    {169.0} <music21.chord.Chord A4 C4>\n",
      "    {169.5} <music21.chord.Chord A4 C4>\n",
      "    {170.0} <music21.chord.Chord A4 C4>\n",
      "    {170.5} <music21.chord.Chord A4 C4>\n",
      "    {171.0} <music21.chord.Chord A4 C4>\n",
      "    {171.5} <music21.chord.Chord A4 C4>\n",
      "    {172.0} <music21.chord.Chord A4 C4>\n",
      "    {172.5} <music21.chord.Chord A4 C4>\n",
      "    {173.0} <music21.chord.Chord A4 C4>\n",
      "    {173.5} <music21.chord.Chord A4 C4>\n",
      "    {174.0} <music21.chord.Chord A4 C4>\n",
      "    {174.5} <music21.chord.Chord A4 C4>\n",
      "    {175.0} <music21.chord.Chord A4 C4>\n",
      "    {175.5} <music21.chord.Chord A4 C4>\n",
      "    {176.0} <music21.chord.Chord A4 C4>\n",
      "    {176.5} <music21.chord.Chord A4 C4>\n",
      "    {177.0} <music21.chord.Chord A4 C4>\n",
      "    {177.5} <music21.chord.Chord A4 C4>\n",
      "    {178.0} <music21.chord.Chord A4 C4>\n",
      "    {178.5} <music21.chord.Chord A4 C4>\n",
      "    {179.0} <music21.chord.Chord A4 C4>\n",
      "    {179.5} <music21.chord.Chord A4 C4>\n",
      "    {180.0} <music21.chord.Chord A4 C4>\n",
      "    {180.5} <music21.chord.Chord A4 C4>\n",
      "    {181.0} <music21.chord.Chord A4 C4>\n",
      "    {181.5} <music21.chord.Chord A4 C4>\n",
      "    {182.0} <music21.chord.Chord A4 C4>\n",
      "    {182.5} <music21.chord.Chord A4 C4>\n",
      "    {183.0} <music21.chord.Chord A4 C4>\n",
      "    {183.5} <music21.chord.Chord A4 C4>\n",
      "    {184.0} <music21.chord.Chord A4 C4>\n",
      "    {184.5} <music21.chord.Chord A4 C4>\n",
      "    {185.0} <music21.chord.Chord A4 C4>\n",
      "    {185.5} <music21.chord.Chord A4 C4>\n",
      "    {186.0} <music21.chord.Chord A4 C4>\n",
      "    {186.5} <music21.chord.Chord A4 C4>\n",
      "    {187.0} <music21.chord.Chord A4 C4>\n",
      "    {187.5} <music21.chord.Chord A4 C4>\n",
      "    {188.0} <music21.chord.Chord A4 C4>\n",
      "    {188.5} <music21.chord.Chord A4 C4>\n",
      "    {189.0} <music21.chord.Chord A4 C4>\n",
      "    {189.5} <music21.chord.Chord A4 C4>\n",
      "    {190.0} <music21.chord.Chord A4 C4>\n",
      "    {190.5} <music21.chord.Chord A4 C4>\n",
      "    {191.0} <music21.chord.Chord A4 C4>\n",
      "    {191.5} <music21.chord.Chord A4 C4>\n",
      "    {192.0} <music21.chord.Chord A4 C4>\n",
      "    {192.5} <music21.chord.Chord A4 C4>\n",
      "    {193.0} <music21.chord.Chord A4 C4>\n",
      "    {193.5} <music21.chord.Chord A4 C4>\n",
      "    {194.0} <music21.chord.Chord A4 C4>\n",
      "    {194.5} <music21.chord.Chord A4 C4>\n",
      "    {195.0} <music21.chord.Chord A4 C4>\n",
      "    {195.5} <music21.chord.Chord A4 C4>\n",
      "    {196.0} <music21.chord.Chord A4 C4>\n",
      "    {196.5} <music21.chord.Chord A4 C4>\n",
      "    {197.0} <music21.chord.Chord A4 C4>\n",
      "    {197.5} <music21.chord.Chord A4 C4>\n",
      "    {198.0} <music21.chord.Chord A4 C4>\n",
      "    {198.5} <music21.chord.Chord A4 C4>\n",
      "    {199.0} <music21.chord.Chord A4 C4>\n",
      "    {199.5} <music21.chord.Chord A4 C4>\n",
      "    {200.0} <music21.chord.Chord A4 C4>\n",
      "    {200.5} <music21.chord.Chord A4 C4>\n",
      "    {201.0} <music21.chord.Chord A4 C4>\n",
      "    {201.5} <music21.chord.Chord A4 C4>\n",
      "    {202.0} <music21.chord.Chord A4 C4>\n",
      "    {202.5} <music21.chord.Chord A4 C4>\n",
      "    {203.0} <music21.chord.Chord A4 C4>\n",
      "    {203.5} <music21.chord.Chord A4 C4>\n",
      "    {204.0} <music21.chord.Chord A4 C4>\n",
      "    {204.5} <music21.chord.Chord A4 C4>\n",
      "    {205.0} <music21.chord.Chord A4 C4>\n",
      "    {205.5} <music21.chord.Chord A4 C4>\n",
      "    {206.0} <music21.chord.Chord A4 C4>\n",
      "    {206.5} <music21.chord.Chord A4 C4>\n",
      "    {207.0} <music21.chord.Chord A4 C4>\n",
      "    {207.5} <music21.chord.Chord A4 C4>\n",
      "    {208.0} <music21.chord.Chord A4 C4>\n",
      "    {208.5} <music21.chord.Chord A4 C4>\n",
      "    {209.0} <music21.chord.Chord A4 C4>\n",
      "    {209.5} <music21.chord.Chord A4 C4>\n",
      "    {210.0} <music21.chord.Chord A4 C4>\n",
      "    {210.5} <music21.chord.Chord A4 C4>\n",
      "    {211.0} <music21.chord.Chord A4 C4>\n",
      "    {211.5} <music21.chord.Chord A4 C4>\n",
      "    {212.0} <music21.chord.Chord A4 C4>\n",
      "    {212.5} <music21.chord.Chord A4 C4>\n",
      "    {213.0} <music21.chord.Chord A4 C4>\n",
      "    {213.5} <music21.chord.Chord A4 C4>\n",
      "    {214.0} <music21.chord.Chord A4 C4>\n",
      "    {214.5} <music21.chord.Chord A4 C4>\n",
      "    {215.0} <music21.chord.Chord A4 C4>\n",
      "    {215.5} <music21.chord.Chord A4 C4>\n",
      "    {216.0} <music21.chord.Chord A4 C4>\n",
      "    {216.5} <music21.chord.Chord A4 C4>\n",
      "    {217.0} <music21.chord.Chord A4 C4>\n",
      "    {217.5} <music21.chord.Chord A4 C4>\n",
      "    {218.0} <music21.chord.Chord A4 C4>\n",
      "    {218.5} <music21.chord.Chord A4 C4>\n",
      "    {219.0} <music21.chord.Chord A4 C4>\n",
      "    {219.5} <music21.chord.Chord A4 C4>\n",
      "    {220.0} <music21.chord.Chord A4 C4>\n",
      "    {220.5} <music21.chord.Chord A4 C4>\n",
      "    {221.0} <music21.chord.Chord A4 C4>\n",
      "    {221.5} <music21.chord.Chord A4 C4>\n",
      "    {222.0} <music21.chord.Chord A4 C4>\n",
      "    {222.5} <music21.chord.Chord A4 C4>\n",
      "    {223.0} <music21.chord.Chord A4 C4>\n",
      "    {223.5} <music21.chord.Chord A4 C4>\n",
      "    {224.0} <music21.chord.Chord A4 C4>\n",
      "    {224.5} <music21.chord.Chord A4 C4>\n",
      "    {225.0} <music21.chord.Chord A4 C4>\n",
      "    {225.5} <music21.chord.Chord A4 C4>\n",
      "    {226.0} <music21.chord.Chord A4 C4>\n",
      "    {226.5} <music21.chord.Chord A4 C4>\n",
      "    {227.0} <music21.chord.Chord A4 C4>\n",
      "    {227.5} <music21.chord.Chord A4 C4>\n",
      "    {228.0} <music21.chord.Chord A4 C4>\n",
      "    {228.5} <music21.chord.Chord A4 C4>\n",
      "    {229.0} <music21.chord.Chord A4 C4>\n",
      "    {229.5} <music21.chord.Chord A4 C4>\n",
      "    {230.0} <music21.chord.Chord A4 C4>\n",
      "    {230.5} <music21.chord.Chord A4 C4>\n",
      "    {231.0} <music21.chord.Chord A4 C4>\n",
      "    {231.5} <music21.chord.Chord A4 C4>\n",
      "    {232.0} <music21.chord.Chord A4 C4>\n",
      "    {232.5} <music21.chord.Chord A4 C4>\n",
      "    {233.0} <music21.chord.Chord A4 C4>\n",
      "    {233.5} <music21.chord.Chord A4 C4>\n",
      "    {234.0} <music21.chord.Chord A4 C4>\n",
      "    {234.5} <music21.chord.Chord A4 C4>\n",
      "    {235.0} <music21.chord.Chord A4 C4>\n",
      "    {235.5} <music21.chord.Chord A4 C4>\n",
      "    {236.0} <music21.chord.Chord A4 C4>\n",
      "    {236.5} <music21.chord.Chord A4 C4>\n",
      "    {237.0} <music21.chord.Chord A4 C4>\n",
      "    {237.5} <music21.chord.Chord A4 C4>\n",
      "    {238.0} <music21.chord.Chord A4 C4>\n",
      "    {238.5} <music21.chord.Chord A4 C4>\n",
      "    {239.0} <music21.chord.Chord A4 C4>\n",
      "    {239.5} <music21.chord.Chord A4 C4>\n",
      "    {240.0} <music21.chord.Chord A4 C4>\n",
      "    {240.5} <music21.chord.Chord A4 C4>\n",
      "    {241.0} <music21.chord.Chord A4 C4>\n",
      "    {241.5} <music21.chord.Chord A4 C4>\n",
      "    {242.0} <music21.chord.Chord A4 C4>\n",
      "    {242.5} <music21.chord.Chord A4 C4>\n",
      "    {243.0} <music21.chord.Chord A4 C4>\n",
      "    {243.5} <music21.chord.Chord A4 C4>\n",
      "    {244.0} <music21.chord.Chord A4 C4>\n",
      "    {244.5} <music21.chord.Chord A4 C4>\n",
      "    {245.0} <music21.chord.Chord A4 C4>\n",
      "    {245.5} <music21.chord.Chord A4 C4>\n",
      "    {246.0} <music21.chord.Chord A4 C4>\n",
      "    {246.5} <music21.chord.Chord A4 C4>\n",
      "    {247.0} <music21.chord.Chord A4 C4>\n",
      "    {247.5} <music21.chord.Chord A4 C4>\n",
      "    {248.0} <music21.chord.Chord A4 C4>\n",
      "    {248.5} <music21.chord.Chord A4 C4>\n",
      "    {249.0} <music21.chord.Chord A4 C4>\n",
      "    {249.5} <music21.chord.Chord A4 C4>\n"
     ]
    }
   ],
   "source": [
    "midi = converter.parse('energetic_31.mid')\n",
    "midi.show('text')"
   ]
  },
  {
   "cell_type": "code",
   "execution_count": null,
   "metadata": {
    "collapsed": true
   },
   "outputs": [],
   "source": []
  }
 ],
 "metadata": {
  "kernelspec": {
   "display_name": "Python 3",
   "language": "python",
   "name": "python3"
  },
  "language_info": {
   "codemirror_mode": {
    "name": "ipython",
    "version": 3
   },
   "file_extension": ".py",
   "mimetype": "text/x-python",
   "name": "python",
   "nbconvert_exporter": "python",
   "pygments_lexer": "ipython3",
   "version": "3.6.4"
  }
 },
 "nbformat": 4,
 "nbformat_minor": 2
}
