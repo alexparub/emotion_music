{
 "cells": [
  {
   "cell_type": "code",
   "execution_count": 1,
   "metadata": {},
   "outputs": [
    {
     "name": "stderr",
     "output_type": "stream",
     "text": [
      "/home/parubchenko/anaconda3/lib/python3.6/site-packages/h5py/__init__.py:36: FutureWarning: Conversion of the second argument of issubdtype from `float` to `np.floating` is deprecated. In future, it will be treated as `np.float64 == np.dtype(float).type`.\n",
      "  from ._conv import register_converters as _register_converters\n",
      "Using TensorFlow backend.\n"
     ]
    }
   ],
   "source": [
    "import numpy as np\n",
    "import matplotlib.pyplot as plt\n",
    "%matplotlib inline\n",
    "\n",
    "import pickle\n",
    "from keras.utils import np_utils\n",
    "from tqdm import tqdm_notebook as tqdm\n",
    "from time import time, sleep"
   ]
  },
  {
   "cell_type": "markdown",
   "metadata": {},
   "source": [
    "### Data"
   ]
  },
  {
   "cell_type": "markdown",
   "metadata": {},
   "source": [
    "Some attempts to take into account varying duration of notes and different offsets between notes"
   ]
  },
  {
   "cell_type": "code",
   "execution_count": 70,
   "metadata": {
    "collapsed": true
   },
   "outputs": [],
   "source": [
    "ex_melodies = []\n",
    "with open('dataset_A/extended_notes', 'rb') as filepath:\n",
    "    ex_melodies = pickle.load(filepath)"
   ]
  },
  {
   "cell_type": "code",
   "execution_count": 152,
   "metadata": {
    "collapsed": true
   },
   "outputs": [],
   "source": [
    "melodies = []\n",
    "with open('dataset_A/notes', 'rb') as filepath:\n",
    "    melodies = pickle.load(filepath)"
   ]
  },
  {
   "cell_type": "code",
   "execution_count": 153,
   "metadata": {
    "collapsed": true
   },
   "outputs": [],
   "source": [
    "labels = []\n",
    "with open('dataset_A/labels', 'rb') as filepath:\n",
    "    labels = pickle.load(filepath)"
   ]
  },
  {
   "cell_type": "code",
   "execution_count": 154,
   "metadata": {
    "collapsed": true
   },
   "outputs": [],
   "source": [
    "indices = []\n",
    "with open('dataset_A/indices', 'rb') as filepath:\n",
    "    indices = pickle.load(filepath)"
   ]
  },
  {
   "cell_type": "code",
   "execution_count": 155,
   "metadata": {},
   "outputs": [
    {
     "data": {
      "application/vnd.jupyter.widget-view+json": {
       "model_id": "2a6e7c76c7a646bbbd9dd36043485eeb",
       "version_major": 2,
       "version_minor": 0
      },
      "text/plain": [
       "HBox(children=(IntProgress(value=0, max=249), HTML(value='')))"
      ]
     },
     "metadata": {},
     "output_type": "display_data"
    }
   ],
   "source": [
    "notes = []\n",
    "\n",
    "for melody in tqdm(melodies):\n",
    "    key = melody[0]\n",
    "    if key in labels:\n",
    "        notes.append('Start')\n",
    "        for note in melody[1]:\n",
    "            if '.' not in note or len(note.split('.')) <= 3:\n",
    "                notes.append(note)\n",
    "        notes.append('End')"
   ]
  },
  {
   "cell_type": "code",
   "execution_count": 72,
   "metadata": {},
   "outputs": [
    {
     "data": {
      "application/vnd.jupyter.widget-view+json": {
       "model_id": "f1f5a678dc984748ba6bed50ae42a04a",
       "version_major": 2,
       "version_minor": 0
      },
      "text/plain": [
       "HBox(children=(IntProgress(value=0, max=244), HTML(value='')))"
      ]
     },
     "metadata": {},
     "output_type": "display_data"
    },
    {
     "name": "stdout",
     "output_type": "stream",
     "text": [
      "\n"
     ]
    }
   ],
   "source": [
    "ex_notes = []\n",
    "\n",
    "for melody in tqdm(ex_melodies):\n",
    "    key = melody[0]\n",
    "    if key in labels:\n",
    "        ex_notes.append('Start')\n",
    "        for note in melody[1]:\n",
    "            q = note.split(':')[0]\n",
    "            try:\n",
    "                offset = float(note.split(':')[1])\n",
    "                if offset in [0.25, 0.5, 1, 1.5] and ('.' not in q or len(q.split('.')) <= 3):\n",
    "                    ex_notes.append(note)\n",
    "            except ValueError:\n",
    "                pass\n",
    "        ex_notes.append('End')"
   ]
  },
  {
   "cell_type": "code",
   "execution_count": 156,
   "metadata": {
    "collapsed": true
   },
   "outputs": [],
   "source": [
    "# Get all pitch names\n",
    "pitchnames = sorted(set(item for item in notes))\n",
    "n_vocab = len(set(notes))\n",
    "n_emots = len(set(val for val in labels.values()))\n",
    "# create a dictionary to map pitches to integers\n",
    "note_to_int = dict((note, number) for number, note in enumerate(pitchnames))\n",
    "# create a reversed dictionary to map integers to pitches\n",
    "int_to_note = dict((number, note) for number, note in enumerate(pitchnames))"
   ]
  },
  {
   "cell_type": "code",
   "execution_count": 157,
   "metadata": {},
   "outputs": [
    {
     "data": {
      "application/vnd.jupyter.widget-view+json": {
       "model_id": "9b8bce7df1ed45029b920f43da9d8a7c",
       "version_major": 2,
       "version_minor": 0
      },
      "text/plain": [
       "HBox(children=(IntProgress(value=0, max=249), HTML(value='')))"
      ]
     },
     "metadata": {},
     "output_type": "display_data"
    }
   ],
   "source": [
    "sequence_length = 32\n",
    "network_input = []\n",
    "emotion_input = []\n",
    "\n",
    "for melody in tqdm(melodies):\n",
    "    key = melody[0]\n",
    "    if key in labels:\n",
    "        emotion = labels[key]\n",
    "        melody_notes = ['Start'] \n",
    "        for note in melody[1]:\n",
    "            if '.' not in note or len(note.split('.')) <= 3:\n",
    "                melody_notes.append(note)\n",
    "        melody_notes += ['End']\n",
    "        \n",
    "        for i in range(0, len(melody_notes) - sequence_length, 1):\n",
    "            sequence_in = melody_notes[i:i + sequence_length]\n",
    "            network_input.append([note_to_int[char] for char in sequence_in])\n",
    "            emotion_input.append(emotion)"
   ]
  },
  {
   "cell_type": "code",
   "execution_count": 75,
   "metadata": {},
   "outputs": [
    {
     "data": {
      "application/vnd.jupyter.widget-view+json": {
       "model_id": "09cc78d5e5ba44e1bd61e0e98894cf4c",
       "version_major": 2,
       "version_minor": 0
      },
      "text/plain": [
       "HBox(children=(IntProgress(value=0, max=244), HTML(value='')))"
      ]
     },
     "metadata": {},
     "output_type": "display_data"
    },
    {
     "name": "stdout",
     "output_type": "stream",
     "text": [
      "\n"
     ]
    }
   ],
   "source": [
    "sequence_length = 32\n",
    "network_input = []\n",
    "emotion_input = []\n",
    "\n",
    "for melody in tqdm(ex_melodies):#(melodies):\n",
    "    key = melody[0]\n",
    "    if key in labels:\n",
    "        emotion = labels[key]\n",
    "        melody_notes = ['Start'] \n",
    "        for note in melody[1]:\n",
    "            q = note.split(':')[0]\n",
    "            try:\n",
    "                offset = float(note.split(':')[1])\n",
    "                if offset in [0.25, 0.5, 1, 1.5] and ('.' not in q or len(q.split('.')) <= 3):\n",
    "                    melody_notes.append(note)\n",
    "            except ValueError:\n",
    "                pass\n",
    "            #if '.' not in note or len(note.split('.')) <= 3:\n",
    "            #    melody_notes.append(note)\n",
    "        melody_notes += ['End']\n",
    "\n",
    "        for i in range(0, len(melody_notes) - sequence_length, 1):\n",
    "            sequence_in = melody_notes[i:i + sequence_length]\n",
    "            network_input.append([note_to_int[char] for char in sequence_in])\n",
    "            emotion_input.append(emotion)"
   ]
  },
  {
   "cell_type": "code",
   "execution_count": 158,
   "metadata": {
    "collapsed": true
   },
   "outputs": [],
   "source": [
    "def as_matrix(sequences, max_len=None):\n",
    "    \"\"\" Convert a list of tokens into a matrix with padding \"\"\"\n",
    "    max_len = max_len or max(map(len, sequences))\n",
    "\n",
    "    matrix = np.zeros((len(sequences), max_len), dtype='int32')\n",
    "    for i, seq in enumerate(sequences):\n",
    "        current = [note_to_int.get(note) for note in seq[:max_len]]\n",
    "        matrix[i, :len(current)] = current\n",
    "    return matrix"
   ]
  },
  {
   "cell_type": "markdown",
   "metadata": {},
   "source": [
    "## Many-to-Many LSTM"
   ]
  },
  {
   "cell_type": "code",
   "execution_count": 159,
   "metadata": {
    "collapsed": true
   },
   "outputs": [],
   "source": [
    "import torch, torch.nn as nn\n",
    "import torch.nn.functional as F\n",
    "from torch.autograd import Variable\n",
    "from torch.utils.data import Dataset, DataLoader"
   ]
  },
  {
   "cell_type": "code",
   "execution_count": 160,
   "metadata": {
    "collapsed": true
   },
   "outputs": [],
   "source": [
    "class NotTuple(nn.Module):\n",
    "    def forward(self, input):\n",
    "        return input[0]\n",
    "\n",
    "class Flatten(nn.Module):\n",
    "    def forward(self, input):\n",
    "        return input.view(input.size(0), -1)"
   ]
  },
  {
   "cell_type": "code",
   "execution_count": 161,
   "metadata": {
    "collapsed": true
   },
   "outputs": [],
   "source": [
    "class CaptionNet(nn.Module):\n",
    "    def __init__(self, n_tokens=n_vocab, emb_size=32, lstm_units=512, emotions_feature_size=3):\n",
    "        \"\"\" A recurrent 'head' network for image captioning. See scheme above. \"\"\"\n",
    "        super(self.__class__, self).__init__()\n",
    "        \n",
    "        self.classificator = nn.Sequential(\n",
    "            nn.Embedding(n_vocab, emb_size),\n",
    "            nn.LSTM(input_size=emb_size, hidden_size=64, \n",
    "                    num_layers=3, batch_first=True, dropout=0.3),\n",
    "            NotTuple(),\n",
    "            nn.Tanh(),\n",
    "            Flatten(),\n",
    "            nn.Linear(1984, 1024),\n",
    "            nn.ReLU(),\n",
    "            nn.Dropout(0.3),\n",
    "            nn.Linear(1024, 32),\n",
    "            nn.ReLU(),\n",
    "            nn.Dropout(0.3),\n",
    "            nn.Linear(32, 3),\n",
    "        ).cuda()\n",
    "        self.classificator.load_state_dict(torch.load('weights\\Classificator.pth'))\n",
    "        self.classificator.train(False)\n",
    "        \n",
    "        self.units = lstm_units\n",
    "        self.emotions = emotions_feature_size\n",
    "        # recurrent part, please create the layers as per scheme above.\n",
    "\n",
    "        # create embedding for input words. Use the parameters (e.g. emb_size).\n",
    "        self.emb_notes = nn.Embedding(n_tokens, emb_size)\n",
    "        self.emb_emots = nn.Embedding(n_emots, emotions_feature_size)\n",
    "        \n",
    "        # a layer that converts emnbedded emotions features to \n",
    "        self.cnn_to_h0 = nn.Linear(emotions_feature_size, lstm_units)\n",
    "        self.cnn_to_c0 = nn.Linear(emotions_feature_size, lstm_units)\n",
    "        \n",
    "        # lstm: create a recurrent core of your network. Use either LSTMCell or just LSTM. \n",
    "        # In the latter case (nn.LSTM), make sure batch_first=True\n",
    "        self.lstm = nn.LSTM(input_size=emb_size, hidden_size=lstm_units, \n",
    "                            num_layers=3, batch_first=True, dropout=0.3)\n",
    "            \n",
    "        # create logits: linear layer that takes lstm hidden state as input and computes one number per token\n",
    "        self.logits = nn.Linear(lstm_units, n_tokens)\n",
    "        #self.linear = nn.Linear(lstm_units, n_emots)\n",
    "        #self.emots  = nn.Softmax(2)\n",
    "        \n",
    "    def classify(self, fragments):\n",
    "        return self.classificator.forward(fragments)\n",
    "    \n",
    "    def forward(self, fragments, emotions, predict=False):\n",
    "        \"\"\" \n",
    "        Apply the network in training mode. \n",
    "        :param emotions: a Variable containing inception vectors. shape: [batch, emotions_feature_size]\n",
    "        :param captions_ix: a Variable containing captions as matrix. shape: [batch, note_i]. \n",
    "            padded with pad_ix\n",
    "        :returns: logits for next token at each tick, shape: [batch, note_i, n_tokens]\n",
    "        \"\"\"\n",
    "        fragments_emb = self.emb_notes(fragments)\n",
    "        emotions_emb = self.emb_emots(emotions)\n",
    "   \n",
    "        c_0 = self.cnn_to_c0(emotions_emb)\n",
    "        h_0 = self.cnn_to_h0(emotions_emb)\n",
    "        \n",
    "        # apply recurrent layer to captions_emb. \n",
    "        # 1. initialize lstm state with initial_* from above\n",
    "        # 2. feed it with captions. Mind the dimension order in docstring\n",
    "        # 3. compute logits for next token probabilities\n",
    "        # Note: if you used nn.LSTM, you can just give it (initial_cell[None], initial_hid[None]) as second arg\n",
    "\n",
    "        # lstm_out should be lstm hidden state sequence of shape [batch, caption_length, lstm_units]\n",
    "        h_0 = h_0.repeat(3, 1, 1)\n",
    "        c_0 = c_0.repeat(3, 1, 1)\n",
    "        h_0[1] = h_0[2] = torch.zeros_like(h_0[1])\n",
    "        c_0[1] = c_0[2] = torch.zeros_like(c_0[2])\n",
    "\n",
    "        lstm_out, _ = self.lstm(fragments_emb, (h_0, c_0))\n",
    "        \n",
    "        # compute logits from lstm_out\n",
    "        logits = self.logits(lstm_out)\n",
    "        if not predict:\n",
    "            out_emotion = self.classify(torch.argmax(logits, dim=2))\n",
    "        else:\n",
    "            out_emotion = torch.zeros(n_emots)\n",
    "        #emots  = #self.linear(lstm_out)\n",
    "\n",
    "        return logits, out_emotion     "
   ]
  },
  {
   "cell_type": "code",
   "execution_count": 167,
   "metadata": {
    "collapsed": true
   },
   "outputs": [],
   "source": [
    "def compute_loss(network, fragments, emotions, show=False):\n",
    "    \"\"\"\n",
    "    :param image_vectors: a Variable containing inception vectors. shape: [batch, cnn_feature_size]\n",
    "    :param captions_ix: a Variable containing captions as matrix. shape: [batch, word_i]. \n",
    "        padded with pad_ix\n",
    "    :returns: crossentropy (neg llh) loss for next captions_ix given previous ones. Scalar float Variable\n",
    "    \"\"\"\n",
    "    fragments_inp = fragments[:, :-1].contiguous()\n",
    "    fragments_out = fragments[:, 1: ].contiguous()\n",
    "    \n",
    "    logits_out, emotions_out = network.forward(fragments_inp, emotions)\n",
    "\n",
    "    loss_frag = F.cross_entropy(logits_out.view(-1, n_vocab), fragments_out.view(-1)).cuda()\n",
    "\n",
    "    loss_emot = F.cross_entropy(emotions_out, emotions.view(-1)).cuda()\n",
    "\n",
    "    if show:\n",
    "        print('Differences:', torch.sum(torch.argmax(emotions_out, dim=1) != emotions.view(-1)).data.cpu().numpy())\n",
    "        \n",
    "    return loss_frag, loss_emot"
   ]
  },
  {
   "cell_type": "code",
   "execution_count": 169,
   "metadata": {
    "collapsed": true
   },
   "outputs": [],
   "source": [
    "Songs = np.array(network_input)\n",
    "Emotions = np.array(emotion_input, dtype=np.int32)"
   ]
  },
  {
   "cell_type": "code",
   "execution_count": 170,
   "metadata": {
    "collapsed": true
   },
   "outputs": [],
   "source": [
    "indices = []\n",
    "with open('my_data/indices', 'rb') as filepath:\n",
    "    indices = pickle.load(filepath)"
   ]
  },
  {
   "cell_type": "code",
   "execution_count": 171,
   "metadata": {
    "collapsed": true
   },
   "outputs": [],
   "source": [
    "rev_indices = np.array([True] * Songs.shape[0])\n",
    "rev_indices[indices] = False"
   ]
  },
  {
   "cell_type": "code",
   "execution_count": 172,
   "metadata": {
    "collapsed": true
   },
   "outputs": [],
   "source": [
    "from sklearn.model_selection import train_test_split\n",
    "\n",
    "Song_train, Song_val, Emotion_train, Emotion_val = train_test_split(\n",
    "    Songs[rev_indices], Emotions[rev_indices], test_size=0.1, shuffle=True)"
   ]
  },
  {
   "cell_type": "code",
   "execution_count": 175,
   "metadata": {
    "collapsed": true
   },
   "outputs": [],
   "source": [
    "def iterate_batches(fragments, emotions, batch_size):\n",
    "    #permute indicies\n",
    "    indices = np.random.permutation(np.arange(len(fragments)))\n",
    "    for start in range(0, len(indices), batch_size):\n",
    "        ix = indices[start: start + batch_size]\n",
    "        #get emotions\n",
    "        batch_emotions = emotions[ix]\n",
    "        #get songs fragments\n",
    "        batch_fragments = fragments[ix]\n",
    "        \n",
    "        yield Variable(torch.LongTensor(batch_fragments)).cuda(), Variable(torch.LongTensor(batch_emotions)).cuda()"
   ]
  },
  {
   "cell_type": "code",
   "execution_count": 177,
   "metadata": {
    "collapsed": true
   },
   "outputs": [],
   "source": [
    "batch_size = 512\n",
    "n_epochs = 50"
   ]
  },
  {
   "cell_type": "code",
   "execution_count": 178,
   "metadata": {},
   "outputs": [
    {
     "data": {
      "application/vnd.jupyter.widget-view+json": {
       "model_id": "49871552fcc0441799a840f44e756197",
       "version_major": 2,
       "version_minor": 0
      },
      "text/plain": [
       "HBox(children=(IntProgress(value=0, description='Epochs', max=50), HTML(value='')))"
      ]
     },
     "metadata": {},
     "output_type": "display_data"
    },
    {
     "data": {
      "application/vnd.jupyter.widget-view+json": {
       "model_id": "",
       "version_major": 2,
       "version_minor": 0
      },
      "text/plain": [
       "HBox(children=(IntProgress(value=1, bar_style='info', description='Train', max=1), HTML(value='')))"
      ]
     },
     "metadata": {},
     "output_type": "display_data"
    },
    {
     "name": "stdout",
     "output_type": "stream",
     "text": [
      "Differences: 224\n",
      "Epoch: 1/50\n",
      "45s - t_n loss: 2.857 - t_e loss: 0.702 - train_loss: 3.560 - val loss: 2.323\n"
     ]
    },
    {
     "data": {
      "application/vnd.jupyter.widget-view+json": {
       "model_id": "",
       "version_major": 2,
       "version_minor": 0
      },
      "text/plain": [
       "HBox(children=(IntProgress(value=1, bar_style='info', description='Train', max=1), HTML(value='')))"
      ]
     },
     "metadata": {},
     "output_type": "display_data"
    },
    {
     "name": "stdout",
     "output_type": "stream",
     "text": [
      "Differences: 56\n",
      "Epoch: 2/50\n",
      "45s - t_n loss: 1.776 - t_e loss: 0.275 - train_loss: 2.051 - val loss: 1.498\n"
     ]
    },
    {
     "data": {
      "application/vnd.jupyter.widget-view+json": {
       "model_id": "",
       "version_major": 2,
       "version_minor": 0
      },
      "text/plain": [
       "HBox(children=(IntProgress(value=1, bar_style='info', description='Train', max=1), HTML(value='')))"
      ]
     },
     "metadata": {},
     "output_type": "display_data"
    },
    {
     "name": "stdout",
     "output_type": "stream",
     "text": [
      "Differences: 47\n",
      "Epoch: 3/50\n",
      "44s - t_n loss: 1.376 - t_e loss: 0.210 - train_loss: 1.586 - val loss: 1.138\n"
     ]
    },
    {
     "data": {
      "application/vnd.jupyter.widget-view+json": {
       "model_id": "",
       "version_major": 2,
       "version_minor": 0
      },
      "text/plain": [
       "HBox(children=(IntProgress(value=1, bar_style='info', description='Train', max=1), HTML(value='')))"
      ]
     },
     "metadata": {},
     "output_type": "display_data"
    },
    {
     "name": "stdout",
     "output_type": "stream",
     "text": [
      "Differences: 41\n",
      "Epoch: 4/50\n",
      "45s - t_n loss: 1.168 - t_e loss: 0.181 - train_loss: 1.349 - val loss: 0.924\n"
     ]
    },
    {
     "data": {
      "application/vnd.jupyter.widget-view+json": {
       "model_id": "",
       "version_major": 2,
       "version_minor": 0
      },
      "text/plain": [
       "HBox(children=(IntProgress(value=1, bar_style='info', description='Train', max=1), HTML(value='')))"
      ]
     },
     "metadata": {},
     "output_type": "display_data"
    },
    {
     "name": "stdout",
     "output_type": "stream",
     "text": [
      "Differences: 32\n",
      "Epoch: 5/50\n",
      "44s - t_n loss: 1.036 - t_e loss: 0.167 - train_loss: 1.202 - val loss: 0.789\n"
     ]
    },
    {
     "data": {
      "application/vnd.jupyter.widget-view+json": {
       "model_id": "",
       "version_major": 2,
       "version_minor": 0
      },
      "text/plain": [
       "HBox(children=(IntProgress(value=1, bar_style='info', description='Train', max=1), HTML(value='')))"
      ]
     },
     "metadata": {},
     "output_type": "display_data"
    },
    {
     "name": "stdout",
     "output_type": "stream",
     "text": [
      "Differences: 17\n",
      "Epoch: 6/50\n",
      "45s - t_n loss: 0.942 - t_e loss: 0.148 - train_loss: 1.089 - val loss: 0.708\n"
     ]
    },
    {
     "data": {
      "application/vnd.jupyter.widget-view+json": {
       "model_id": "",
       "version_major": 2,
       "version_minor": 0
      },
      "text/plain": [
       "HBox(children=(IntProgress(value=1, bar_style='info', description='Train', max=1), HTML(value='')))"
      ]
     },
     "metadata": {},
     "output_type": "display_data"
    },
    {
     "name": "stdout",
     "output_type": "stream",
     "text": [
      "Differences: 25\n",
      "Epoch: 7/50\n",
      "45s - t_n loss: 0.870 - t_e loss: 0.135 - train_loss: 1.005 - val loss: 0.650\n"
     ]
    },
    {
     "data": {
      "application/vnd.jupyter.widget-view+json": {
       "model_id": "",
       "version_major": 2,
       "version_minor": 0
      },
      "text/plain": [
       "HBox(children=(IntProgress(value=1, bar_style='info', description='Train', max=1), HTML(value='')))"
      ]
     },
     "metadata": {},
     "output_type": "display_data"
    },
    {
     "name": "stdout",
     "output_type": "stream",
     "text": [
      "Differences: 20\n",
      "Epoch: 8/50\n",
      "44s - t_n loss: 0.812 - t_e loss: 0.126 - train_loss: 0.938 - val loss: 0.598\n"
     ]
    },
    {
     "data": {
      "application/vnd.jupyter.widget-view+json": {
       "model_id": "",
       "version_major": 2,
       "version_minor": 0
      },
      "text/plain": [
       "HBox(children=(IntProgress(value=1, bar_style='info', description='Train', max=1), HTML(value='')))"
      ]
     },
     "metadata": {},
     "output_type": "display_data"
    },
    {
     "name": "stdout",
     "output_type": "stream",
     "text": [
      "Differences: 18\n",
      "Epoch: 9/50\n",
      "44s - t_n loss: 0.766 - t_e loss: 0.117 - train_loss: 0.883 - val loss: 0.577\n"
     ]
    },
    {
     "data": {
      "application/vnd.jupyter.widget-view+json": {
       "model_id": "",
       "version_major": 2,
       "version_minor": 0
      },
      "text/plain": [
       "HBox(children=(IntProgress(value=1, bar_style='info', description='Train', max=1), HTML(value='')))"
      ]
     },
     "metadata": {},
     "output_type": "display_data"
    },
    {
     "name": "stdout",
     "output_type": "stream",
     "text": [
      "Differences: 21\n",
      "Epoch: 10/50\n",
      "45s - t_n loss: 0.729 - t_e loss: 0.111 - train_loss: 0.840 - val loss: 0.540\n"
     ]
    },
    {
     "data": {
      "application/vnd.jupyter.widget-view+json": {
       "model_id": "",
       "version_major": 2,
       "version_minor": 0
      },
      "text/plain": [
       "HBox(children=(IntProgress(value=1, bar_style='info', description='Train', max=1), HTML(value='')))"
      ]
     },
     "metadata": {},
     "output_type": "display_data"
    },
    {
     "name": "stdout",
     "output_type": "stream",
     "text": [
      "Differences: 19\n",
      "Epoch: 11/50\n",
      "45s - t_n loss: 0.698 - t_e loss: 0.106 - train_loss: 0.804 - val loss: 0.523\n"
     ]
    },
    {
     "data": {
      "application/vnd.jupyter.widget-view+json": {
       "model_id": "",
       "version_major": 2,
       "version_minor": 0
      },
      "text/plain": [
       "HBox(children=(IntProgress(value=1, bar_style='info', description='Train', max=1), HTML(value='')))"
      ]
     },
     "metadata": {},
     "output_type": "display_data"
    },
    {
     "name": "stdout",
     "output_type": "stream",
     "text": [
      "Differences: 24\n",
      "Epoch: 12/50\n",
      "44s - t_n loss: 0.672 - t_e loss: 0.102 - train_loss: 0.774 - val loss: 0.514\n"
     ]
    },
    {
     "data": {
      "application/vnd.jupyter.widget-view+json": {
       "model_id": "",
       "version_major": 2,
       "version_minor": 0
      },
      "text/plain": [
       "HBox(children=(IntProgress(value=1, bar_style='info', description='Train', max=1), HTML(value='')))"
      ]
     },
     "metadata": {},
     "output_type": "display_data"
    },
    {
     "name": "stdout",
     "output_type": "stream",
     "text": [
      "Differences: 15\n",
      "Epoch: 13/50\n",
      "44s - t_n loss: 0.649 - t_e loss: 0.097 - train_loss: 0.746 - val loss: 0.495\n"
     ]
    },
    {
     "data": {
      "application/vnd.jupyter.widget-view+json": {
       "model_id": "",
       "version_major": 2,
       "version_minor": 0
      },
      "text/plain": [
       "HBox(children=(IntProgress(value=1, bar_style='info', description='Train', max=1), HTML(value='')))"
      ]
     },
     "metadata": {},
     "output_type": "display_data"
    },
    {
     "name": "stdout",
     "output_type": "stream",
     "text": [
      "Differences: 9\n",
      "Epoch: 14/50\n",
      "44s - t_n loss: 0.631 - t_e loss: 0.092 - train_loss: 0.723 - val loss: 0.489\n"
     ]
    },
    {
     "data": {
      "application/vnd.jupyter.widget-view+json": {
       "model_id": "",
       "version_major": 2,
       "version_minor": 0
      },
      "text/plain": [
       "HBox(children=(IntProgress(value=1, bar_style='info', description='Train', max=1), HTML(value='')))"
      ]
     },
     "metadata": {},
     "output_type": "display_data"
    },
    {
     "name": "stdout",
     "output_type": "stream",
     "text": [
      "Differences: 12\n",
      "Epoch: 15/50\n",
      "44s - t_n loss: 0.614 - t_e loss: 0.089 - train_loss: 0.703 - val loss: 0.482\n"
     ]
    },
    {
     "data": {
      "application/vnd.jupyter.widget-view+json": {
       "model_id": "",
       "version_major": 2,
       "version_minor": 0
      },
      "text/plain": [
       "HBox(children=(IntProgress(value=1, bar_style='info', description='Train', max=1), HTML(value='')))"
      ]
     },
     "metadata": {},
     "output_type": "display_data"
    },
    {
     "name": "stdout",
     "output_type": "stream",
     "text": [
      "Differences: 15\n",
      "Epoch: 16/50\n",
      "45s - t_n loss: 0.600 - t_e loss: 0.084 - train_loss: 0.684 - val loss: 0.473\n"
     ]
    },
    {
     "data": {
      "application/vnd.jupyter.widget-view+json": {
       "model_id": "",
       "version_major": 2,
       "version_minor": 0
      },
      "text/plain": [
       "HBox(children=(IntProgress(value=1, bar_style='info', description='Train', max=1), HTML(value='')))"
      ]
     },
     "metadata": {},
     "output_type": "display_data"
    },
    {
     "name": "stdout",
     "output_type": "stream",
     "text": [
      "Differences: 15\n",
      "Epoch: 17/50\n",
      "45s - t_n loss: 0.586 - t_e loss: 0.084 - train_loss: 0.670 - val loss: 0.469\n"
     ]
    },
    {
     "data": {
      "application/vnd.jupyter.widget-view+json": {
       "model_id": "",
       "version_major": 2,
       "version_minor": 0
      },
      "text/plain": [
       "HBox(children=(IntProgress(value=1, bar_style='info', description='Train', max=1), HTML(value='')))"
      ]
     },
     "metadata": {},
     "output_type": "display_data"
    },
    {
     "name": "stdout",
     "output_type": "stream",
     "text": [
      "Differences: 21\n",
      "Epoch: 18/50\n",
      "45s - t_n loss: 0.575 - t_e loss: 0.081 - train_loss: 0.656 - val loss: 0.459\n"
     ]
    },
    {
     "data": {
      "application/vnd.jupyter.widget-view+json": {
       "model_id": "",
       "version_major": 2,
       "version_minor": 0
      },
      "text/plain": [
       "HBox(children=(IntProgress(value=1, bar_style='info', description='Train', max=1), HTML(value='')))"
      ]
     },
     "metadata": {},
     "output_type": "display_data"
    },
    {
     "name": "stdout",
     "output_type": "stream",
     "text": [
      "Differences: 15\n",
      "Epoch: 19/50\n",
      "44s - t_n loss: 0.564 - t_e loss: 0.079 - train_loss: 0.643 - val loss: 0.456\n"
     ]
    },
    {
     "data": {
      "application/vnd.jupyter.widget-view+json": {
       "model_id": "",
       "version_major": 2,
       "version_minor": 0
      },
      "text/plain": [
       "HBox(children=(IntProgress(value=1, bar_style='info', description='Train', max=1), HTML(value='')))"
      ]
     },
     "metadata": {},
     "output_type": "display_data"
    },
    {
     "name": "stdout",
     "output_type": "stream",
     "text": [
      "Differences: 15\n",
      "Epoch: 20/50\n",
      "44s - t_n loss: 0.555 - t_e loss: 0.075 - train_loss: 0.629 - val loss: 0.451\n"
     ]
    },
    {
     "data": {
      "application/vnd.jupyter.widget-view+json": {
       "model_id": "",
       "version_major": 2,
       "version_minor": 0
      },
      "text/plain": [
       "HBox(children=(IntProgress(value=1, bar_style='info', description='Train', max=1), HTML(value='')))"
      ]
     },
     "metadata": {},
     "output_type": "display_data"
    },
    {
     "name": "stdout",
     "output_type": "stream",
     "text": [
      "Differences: 16\n",
      "Epoch: 21/50\n",
      "45s - t_n loss: 0.546 - t_e loss: 0.077 - train_loss: 0.624 - val loss: 0.450\n"
     ]
    },
    {
     "data": {
      "application/vnd.jupyter.widget-view+json": {
       "model_id": "",
       "version_major": 2,
       "version_minor": 0
      },
      "text/plain": [
       "HBox(children=(IntProgress(value=1, bar_style='info', description='Train', max=1), HTML(value='')))"
      ]
     },
     "metadata": {},
     "output_type": "display_data"
    },
    {
     "name": "stdout",
     "output_type": "stream",
     "text": [
      "Differences: 16\n",
      "Epoch: 22/50\n",
      "44s - t_n loss: 0.538 - t_e loss: 0.075 - train_loss: 0.613 - val loss: 0.443\n"
     ]
    },
    {
     "data": {
      "application/vnd.jupyter.widget-view+json": {
       "model_id": "",
       "version_major": 2,
       "version_minor": 0
      },
      "text/plain": [
       "HBox(children=(IntProgress(value=1, bar_style='info', description='Train', max=1), HTML(value='')))"
      ]
     },
     "metadata": {},
     "output_type": "display_data"
    },
    {
     "name": "stdout",
     "output_type": "stream",
     "text": [
      "Differences: 12\n",
      "Epoch: 23/50\n",
      "44s - t_n loss: 0.530 - t_e loss: 0.072 - train_loss: 0.602 - val loss: 0.442\n"
     ]
    },
    {
     "data": {
      "application/vnd.jupyter.widget-view+json": {
       "model_id": "",
       "version_major": 2,
       "version_minor": 0
      },
      "text/plain": [
       "HBox(children=(IntProgress(value=1, bar_style='info', description='Train', max=1), HTML(value='')))"
      ]
     },
     "metadata": {},
     "output_type": "display_data"
    },
    {
     "name": "stdout",
     "output_type": "stream",
     "text": [
      "Differences: 15\n",
      "Epoch: 24/50\n",
      "44s - t_n loss: 0.523 - t_e loss: 0.071 - train_loss: 0.594 - val loss: 0.440\n"
     ]
    },
    {
     "data": {
      "application/vnd.jupyter.widget-view+json": {
       "model_id": "",
       "version_major": 2,
       "version_minor": 0
      },
      "text/plain": [
       "HBox(children=(IntProgress(value=1, bar_style='info', description='Train', max=1), HTML(value='')))"
      ]
     },
     "metadata": {},
     "output_type": "display_data"
    },
    {
     "name": "stdout",
     "output_type": "stream",
     "text": [
      "Differences: 11\n",
      "Epoch: 25/50\n",
      "44s - t_n loss: 0.517 - t_e loss: 0.072 - train_loss: 0.589 - val loss: 0.433\n"
     ]
    },
    {
     "data": {
      "application/vnd.jupyter.widget-view+json": {
       "model_id": "",
       "version_major": 2,
       "version_minor": 0
      },
      "text/plain": [
       "HBox(children=(IntProgress(value=1, bar_style='info', description='Train', max=1), HTML(value='')))"
      ]
     },
     "metadata": {},
     "output_type": "display_data"
    },
    {
     "name": "stdout",
     "output_type": "stream",
     "text": [
      "Differences: 8\n",
      "Epoch: 26/50\n",
      "44s - t_n loss: 0.511 - t_e loss: 0.069 - train_loss: 0.580 - val loss: 0.433\n"
     ]
    },
    {
     "data": {
      "application/vnd.jupyter.widget-view+json": {
       "model_id": "",
       "version_major": 2,
       "version_minor": 0
      },
      "text/plain": [
       "HBox(children=(IntProgress(value=1, bar_style='info', description='Train', max=1), HTML(value='')))"
      ]
     },
     "metadata": {},
     "output_type": "display_data"
    },
    {
     "name": "stdout",
     "output_type": "stream",
     "text": [
      "Differences: 11\n",
      "Epoch: 27/50\n",
      "44s - t_n loss: 0.506 - t_e loss: 0.070 - train_loss: 0.576 - val loss: 0.435\n"
     ]
    },
    {
     "data": {
      "application/vnd.jupyter.widget-view+json": {
       "model_id": "",
       "version_major": 2,
       "version_minor": 0
      },
      "text/plain": [
       "HBox(children=(IntProgress(value=1, bar_style='info', description='Train', max=1), HTML(value='')))"
      ]
     },
     "metadata": {},
     "output_type": "display_data"
    },
    {
     "name": "stdout",
     "output_type": "stream",
     "text": [
      "Differences: 15\n",
      "Epoch: 28/50\n",
      "44s - t_n loss: 0.501 - t_e loss: 0.069 - train_loss: 0.570 - val loss: 0.429\n"
     ]
    },
    {
     "data": {
      "application/vnd.jupyter.widget-view+json": {
       "model_id": "",
       "version_major": 2,
       "version_minor": 0
      },
      "text/plain": [
       "HBox(children=(IntProgress(value=1, bar_style='info', description='Train', max=1), HTML(value='')))"
      ]
     },
     "metadata": {},
     "output_type": "display_data"
    },
    {
     "name": "stdout",
     "output_type": "stream",
     "text": [
      "Differences: 14\n",
      "Epoch: 29/50\n",
      "45s - t_n loss: 0.495 - t_e loss: 0.066 - train_loss: 0.561 - val loss: 0.426\n"
     ]
    },
    {
     "data": {
      "application/vnd.jupyter.widget-view+json": {
       "model_id": "",
       "version_major": 2,
       "version_minor": 0
      },
      "text/plain": [
       "HBox(children=(IntProgress(value=1, bar_style='info', description='Train', max=1), HTML(value='')))"
      ]
     },
     "metadata": {},
     "output_type": "display_data"
    },
    {
     "name": "stdout",
     "output_type": "stream",
     "text": [
      "Differences: 16\n",
      "Epoch: 30/50\n",
      "45s - t_n loss: 0.491 - t_e loss: 0.067 - train_loss: 0.558 - val loss: 0.423\n"
     ]
    },
    {
     "data": {
      "application/vnd.jupyter.widget-view+json": {
       "model_id": "",
       "version_major": 2,
       "version_minor": 0
      },
      "text/plain": [
       "HBox(children=(IntProgress(value=1, bar_style='info', description='Train', max=1), HTML(value='')))"
      ]
     },
     "metadata": {},
     "output_type": "display_data"
    },
    {
     "name": "stdout",
     "output_type": "stream",
     "text": [
      "Differences: 15\n",
      "Epoch: 31/50\n",
      "44s - t_n loss: 0.487 - t_e loss: 0.065 - train_loss: 0.552 - val loss: 0.421\n"
     ]
    },
    {
     "data": {
      "application/vnd.jupyter.widget-view+json": {
       "model_id": "",
       "version_major": 2,
       "version_minor": 0
      },
      "text/plain": [
       "HBox(children=(IntProgress(value=1, bar_style='info', description='Train', max=1), HTML(value='')))"
      ]
     },
     "metadata": {},
     "output_type": "display_data"
    },
    {
     "name": "stdout",
     "output_type": "stream",
     "text": [
      "Differences: 12\n",
      "Epoch: 32/50\n",
      "44s - t_n loss: 0.482 - t_e loss: 0.065 - train_loss: 0.548 - val loss: 0.422\n"
     ]
    },
    {
     "data": {
      "application/vnd.jupyter.widget-view+json": {
       "model_id": "",
       "version_major": 2,
       "version_minor": 0
      },
      "text/plain": [
       "HBox(children=(IntProgress(value=1, bar_style='info', description='Train', max=1), HTML(value='')))"
      ]
     },
     "metadata": {},
     "output_type": "display_data"
    },
    {
     "name": "stdout",
     "output_type": "stream",
     "text": [
      "Differences: 13\n",
      "Epoch: 33/50\n",
      "45s - t_n loss: 0.478 - t_e loss: 0.066 - train_loss: 0.544 - val loss: 0.418\n"
     ]
    },
    {
     "data": {
      "application/vnd.jupyter.widget-view+json": {
       "model_id": "",
       "version_major": 2,
       "version_minor": 0
      },
      "text/plain": [
       "HBox(children=(IntProgress(value=1, bar_style='info', description='Train', max=1), HTML(value='')))"
      ]
     },
     "metadata": {},
     "output_type": "display_data"
    },
    {
     "name": "stdout",
     "output_type": "stream",
     "text": [
      "Differences: 8\n",
      "Epoch: 34/50\n",
      "45s - t_n loss: 0.474 - t_e loss: 0.065 - train_loss: 0.539 - val loss: 0.418\n"
     ]
    },
    {
     "data": {
      "application/vnd.jupyter.widget-view+json": {
       "model_id": "",
       "version_major": 2,
       "version_minor": 0
      },
      "text/plain": [
       "HBox(children=(IntProgress(value=1, bar_style='info', description='Train', max=1), HTML(value='')))"
      ]
     },
     "metadata": {},
     "output_type": "display_data"
    },
    {
     "name": "stdout",
     "output_type": "stream",
     "text": [
      "Differences: 12\n",
      "Epoch: 35/50\n",
      "45s - t_n loss: 0.471 - t_e loss: 0.064 - train_loss: 0.535 - val loss: 0.416\n"
     ]
    },
    {
     "data": {
      "application/vnd.jupyter.widget-view+json": {
       "model_id": "",
       "version_major": 2,
       "version_minor": 0
      },
      "text/plain": [
       "HBox(children=(IntProgress(value=1, bar_style='info', description='Train', max=1), HTML(value='')))"
      ]
     },
     "metadata": {},
     "output_type": "display_data"
    },
    {
     "name": "stdout",
     "output_type": "stream",
     "text": [
      "Differences: 17\n",
      "Epoch: 36/50\n",
      "45s - t_n loss: 0.468 - t_e loss: 0.065 - train_loss: 0.533 - val loss: 0.415\n"
     ]
    },
    {
     "data": {
      "application/vnd.jupyter.widget-view+json": {
       "model_id": "",
       "version_major": 2,
       "version_minor": 0
      },
      "text/plain": [
       "HBox(children=(IntProgress(value=1, bar_style='info', description='Train', max=1), HTML(value='')))"
      ]
     },
     "metadata": {},
     "output_type": "display_data"
    },
    {
     "name": "stdout",
     "output_type": "stream",
     "text": [
      "Differences: 13\n",
      "Epoch: 37/50\n",
      "45s - t_n loss: 0.464 - t_e loss: 0.063 - train_loss: 0.528 - val loss: 0.412\n"
     ]
    },
    {
     "data": {
      "application/vnd.jupyter.widget-view+json": {
       "model_id": "",
       "version_major": 2,
       "version_minor": 0
      },
      "text/plain": [
       "HBox(children=(IntProgress(value=1, bar_style='info', description='Train', max=1), HTML(value='')))"
      ]
     },
     "metadata": {},
     "output_type": "display_data"
    },
    {
     "name": "stdout",
     "output_type": "stream",
     "text": [
      "Differences: 13\n",
      "Epoch: 38/50\n",
      "45s - t_n loss: 0.462 - t_e loss: 0.063 - train_loss: 0.525 - val loss: 0.415\n"
     ]
    },
    {
     "data": {
      "application/vnd.jupyter.widget-view+json": {
       "model_id": "",
       "version_major": 2,
       "version_minor": 0
      },
      "text/plain": [
       "HBox(children=(IntProgress(value=1, bar_style='info', description='Train', max=1), HTML(value='')))"
      ]
     },
     "metadata": {},
     "output_type": "display_data"
    },
    {
     "name": "stdout",
     "output_type": "stream",
     "text": [
      "Differences: 12\n",
      "Epoch: 39/50\n",
      "45s - t_n loss: 0.458 - t_e loss: 0.062 - train_loss: 0.520 - val loss: 0.413\n"
     ]
    },
    {
     "data": {
      "application/vnd.jupyter.widget-view+json": {
       "model_id": "",
       "version_major": 2,
       "version_minor": 0
      },
      "text/plain": [
       "HBox(children=(IntProgress(value=1, bar_style='info', description='Train', max=1), HTML(value='')))"
      ]
     },
     "metadata": {},
     "output_type": "display_data"
    },
    {
     "name": "stdout",
     "output_type": "stream",
     "text": [
      "Differences: 13\n",
      "Epoch: 40/50\n",
      "45s - t_n loss: 0.456 - t_e loss: 0.062 - train_loss: 0.518 - val loss: 0.407\n"
     ]
    },
    {
     "data": {
      "application/vnd.jupyter.widget-view+json": {
       "model_id": "",
       "version_major": 2,
       "version_minor": 0
      },
      "text/plain": [
       "HBox(children=(IntProgress(value=1, bar_style='info', description='Train', max=1), HTML(value='')))"
      ]
     },
     "metadata": {},
     "output_type": "display_data"
    },
    {
     "name": "stdout",
     "output_type": "stream",
     "text": [
      "Differences: 14\n",
      "Epoch: 41/50\n",
      "45s - t_n loss: 0.452 - t_e loss: 0.062 - train_loss: 0.515 - val loss: 0.409\n"
     ]
    },
    {
     "data": {
      "application/vnd.jupyter.widget-view+json": {
       "model_id": "",
       "version_major": 2,
       "version_minor": 0
      },
      "text/plain": [
       "HBox(children=(IntProgress(value=1, bar_style='info', description='Train', max=1), HTML(value='')))"
      ]
     },
     "metadata": {},
     "output_type": "display_data"
    },
    {
     "name": "stdout",
     "output_type": "stream",
     "text": [
      "Differences: 12\n",
      "Epoch: 42/50\n",
      "45s - t_n loss: 0.450 - t_e loss: 0.062 - train_loss: 0.512 - val loss: 0.419\n"
     ]
    },
    {
     "data": {
      "application/vnd.jupyter.widget-view+json": {
       "model_id": "",
       "version_major": 2,
       "version_minor": 0
      },
      "text/plain": [
       "HBox(children=(IntProgress(value=1, bar_style='info', description='Train', max=1), HTML(value='')))"
      ]
     },
     "metadata": {},
     "output_type": "display_data"
    },
    {
     "name": "stdout",
     "output_type": "stream",
     "text": [
      "Differences: 8\n",
      "Epoch: 43/50\n",
      "45s - t_n loss: 0.447 - t_e loss: 0.062 - train_loss: 0.509 - val loss: 0.406\n"
     ]
    },
    {
     "data": {
      "application/vnd.jupyter.widget-view+json": {
       "model_id": "",
       "version_major": 2,
       "version_minor": 0
      },
      "text/plain": [
       "HBox(children=(IntProgress(value=1, bar_style='info', description='Train', max=1), HTML(value='')))"
      ]
     },
     "metadata": {},
     "output_type": "display_data"
    },
    {
     "name": "stdout",
     "output_type": "stream",
     "text": [
      "Differences: 10\n",
      "Epoch: 44/50\n",
      "45s - t_n loss: 0.445 - t_e loss: 0.061 - train_loss: 0.505 - val loss: 0.412\n"
     ]
    },
    {
     "data": {
      "application/vnd.jupyter.widget-view+json": {
       "model_id": "",
       "version_major": 2,
       "version_minor": 0
      },
      "text/plain": [
       "HBox(children=(IntProgress(value=1, bar_style='info', description='Train', max=1), HTML(value='')))"
      ]
     },
     "metadata": {},
     "output_type": "display_data"
    },
    {
     "name": "stdout",
     "output_type": "stream",
     "text": [
      "Differences: 11\n",
      "Epoch: 45/50\n",
      "45s - t_n loss: 0.443 - t_e loss: 0.061 - train_loss: 0.503 - val loss: 0.402\n"
     ]
    },
    {
     "data": {
      "application/vnd.jupyter.widget-view+json": {
       "model_id": "",
       "version_major": 2,
       "version_minor": 0
      },
      "text/plain": [
       "HBox(children=(IntProgress(value=1, bar_style='info', description='Train', max=1), HTML(value='')))"
      ]
     },
     "metadata": {},
     "output_type": "display_data"
    },
    {
     "name": "stdout",
     "output_type": "stream",
     "text": [
      "Differences: 13\n",
      "Epoch: 46/50\n",
      "45s - t_n loss: 0.440 - t_e loss: 0.061 - train_loss: 0.501 - val loss: 0.405\n"
     ]
    },
    {
     "data": {
      "application/vnd.jupyter.widget-view+json": {
       "model_id": "",
       "version_major": 2,
       "version_minor": 0
      },
      "text/plain": [
       "HBox(children=(IntProgress(value=1, bar_style='info', description='Train', max=1), HTML(value='')))"
      ]
     },
     "metadata": {},
     "output_type": "display_data"
    },
    {
     "name": "stdout",
     "output_type": "stream",
     "text": [
      "Differences: 11\n",
      "Epoch: 47/50\n",
      "45s - t_n loss: 0.438 - t_e loss: 0.060 - train_loss: 0.499 - val loss: 0.401\n"
     ]
    },
    {
     "data": {
      "application/vnd.jupyter.widget-view+json": {
       "model_id": "",
       "version_major": 2,
       "version_minor": 0
      },
      "text/plain": [
       "HBox(children=(IntProgress(value=1, bar_style='info', description='Train', max=1), HTML(value='')))"
      ]
     },
     "metadata": {},
     "output_type": "display_data"
    },
    {
     "name": "stdout",
     "output_type": "stream",
     "text": [
      "Differences: 11\n",
      "Epoch: 48/50\n",
      "45s - t_n loss: 0.436 - t_e loss: 0.061 - train_loss: 0.497 - val loss: 0.401\n"
     ]
    },
    {
     "data": {
      "application/vnd.jupyter.widget-view+json": {
       "model_id": "",
       "version_major": 2,
       "version_minor": 0
      },
      "text/plain": [
       "HBox(children=(IntProgress(value=1, bar_style='info', description='Train', max=1), HTML(value='')))"
      ]
     },
     "metadata": {},
     "output_type": "display_data"
    },
    {
     "name": "stdout",
     "output_type": "stream",
     "text": [
      "Differences: 9\n",
      "Epoch: 49/50\n",
      "44s - t_n loss: 0.434 - t_e loss: 0.061 - train_loss: 0.495 - val loss: 0.402\n"
     ]
    },
    {
     "data": {
      "application/vnd.jupyter.widget-view+json": {
       "model_id": "",
       "version_major": 2,
       "version_minor": 0
      },
      "text/plain": [
       "HBox(children=(IntProgress(value=1, bar_style='info', description='Train', max=1), HTML(value='')))"
      ]
     },
     "metadata": {},
     "output_type": "display_data"
    },
    {
     "name": "stdout",
     "output_type": "stream",
     "text": [
      "Differences: 15\n",
      "Epoch: 50/50\n",
      "44s - t_n loss: 0.432 - t_e loss: 0.060 - train_loss: 0.492 - val loss: 0.405\n",
      "Finished!\n"
     ]
    }
   ],
   "source": [
    "network = CaptionNet(n_vocab).cuda()\n",
    "optimizer = torch.optim.Adam(network.parameters(), lr=1e-3)\n",
    "\n",
    "val_minumum = np.inf\n",
    "train_losses = []\n",
    "t_n_losses = []\n",
    "t_e_losses = []\n",
    "val_losses = []\n",
    "\n",
    "for epoch in tqdm(range(n_epochs), desc='Epochs'):\n",
    "    start = time()\n",
    "    train_loss=0\n",
    "    t_n_loss = 0\n",
    "    t_e_loss = 0\n",
    "    \n",
    "    network.train(True)\n",
    "    batches = 0\n",
    "    for fragment_batch, emotion_batch in tqdm(\n",
    "        iterate_batches(Song_train, Emotion_train, batch_size), leave=False, desc='Train'):\n",
    "        batches += 1\n",
    "        show = True if batches == 1 else False\n",
    "        loss_n, loss_e = compute_loss(network, fragment_batch, emotion_batch, show)\n",
    "        loss_t = loss_n + loss_e\n",
    "        \n",
    "        optimizer.zero_grad()\n",
    "        loss_t.backward()\n",
    "        optimizer.step()\n",
    "        \n",
    "        train_loss += loss_t.data.cpu().numpy()\n",
    "        t_n_loss += loss_n.data.cpu().numpy()\n",
    "        t_e_loss += loss_e.data.cpu().numpy()\n",
    "        \n",
    "    train_loss /= batches\n",
    "    t_n_loss /= batches\n",
    "    t_e_loss /= batches\n",
    "    train_losses.append(train_loss)\n",
    "    t_n_losses.append(t_n_loss)\n",
    "    t_e_losses.append(t_e_loss)\n",
    "    \n",
    "    val_loss=0\n",
    "    network.train(False)\n",
    "    batches = 0\n",
    "    for fragment_batch, emotion_batch in iterate_batches(Song_val, Emotion_val, batch_size):\n",
    "        batches += 1\n",
    "        loss_n, loss_e = compute_loss(network, fragment_batch, emotion_batch)\n",
    "        loss_t = loss_n + loss_e\n",
    "        val_loss += loss_t.data.cpu().numpy()\n",
    "    val_loss /= batches\n",
    "    val_losses.append(val_loss)\n",
    "    \n",
    "    is_best = val_loss < val_minumum\n",
    "    if is_best:\n",
    "        val_minumum = val_loss\n",
    "        torch.save(network.state_dict(), 'MtoM.pth')\n",
    "    \n",
    "    print(\"\"\"Epoch: {}/{}\n",
    "{:.0f}s - t_n loss: {:.3f} - t_e loss: {:.3f} - train_loss: {:.3f} - val loss: {:.3f}\"\"\".format(\n",
    "        epoch+1, n_epochs, time() - start, t_n_loss, t_e_loss, train_loss, val_loss))\n",
    "\n",
    "print(\"Finished!\")"
   ]
  },
  {
   "cell_type": "code",
   "execution_count": 179,
   "metadata": {},
   "outputs": [
    {
     "data": {
      "text/plain": [
       "<matplotlib.legend.Legend at 0x7f38e712d4a8>"
      ]
     },
     "execution_count": 179,
     "metadata": {},
     "output_type": "execute_result"
    },
    {
     "data": {
      "image/png": "[encoded data removed]",
      "text/plain": [
       "<Figure size 720x432 with 1 Axes>"
      ]
     },
     "metadata": {
      "image/png": {
       "height": 386,
       "width": 610
      }
     },
     "output_type": "display_data"
    }
   ],
   "source": [
    "fig, ax = plt.subplots(1, figsize=(10, 6))\n",
    "\n",
    "ax.plot(train_losses, c='b', label='train')\n",
    "ax.plot(val_losses, c='r', label='validation')\n",
    "ax.set_ylabel('Loss')\n",
    "ax.set_xlabel('#Epoch')\n",
    "ax.set_title('Learning process')\n",
    "ax.legend()\n",
    "#fig.savefig('lp2.png')"
   ]
  },
  {
   "cell_type": "code",
   "execution_count": 180,
   "metadata": {
    "collapsed": true
   },
   "outputs": [],
   "source": [
    "def generate_fragment(emotion, fragment_prefix = (\"Start\",), \n",
    "                      t=1, sample=True, max_len=100):\n",
    "    \n",
    "    assert isinstance(emotion, int)\n",
    "\n",
    "    fragment_prefix = list(fragment_prefix)\n",
    "    emotion = Variable(torch.LongTensor([emotion]), requires_grad=False).cuda()\n",
    " \n",
    "    for _ in tqdm(range(max_len)):\n",
    "\n",
    "        prefix_ix = as_matrix([fragment_prefix])\n",
    "        prefix_ix = Variable(torch.LongTensor(prefix_ix), requires_grad=False).cuda()\n",
    "        \n",
    "        next_note_logits = network.forward(prefix_ix, emotion, predict=True)[0][0, -1]\n",
    "        next_note_probs = F.softmax(next_note_logits, -1).data.cpu().numpy()\n",
    "        \n",
    "        assert len(next_note_probs.shape) == 1, 'probs must be one-dimensional'\n",
    "        next_note_probs = next_note_probs ** t / np.sum(next_note_probs ** t) # apply temperature\n",
    "        \n",
    "        if sample:\n",
    "            index = np.random.choice(range(n_vocab), p=next_note_probs) \n",
    "        else:\n",
    "            index = int_to_note[np.argmax(next_note_probs)]\n",
    "            \n",
    "        next_note = int_to_note[index]\n",
    "        fragment_prefix.append(next_note)\n",
    "\n",
    "        if next_note == \"End\":\n",
    "            break\n",
    "            \n",
    "    return fragment_prefix"
   ]
  },
  {
   "cell_type": "code",
   "execution_count": 186,
   "metadata": {},
   "outputs": [
    {
     "data": {
      "application/vnd.jupyter.widget-view+json": {
       "model_id": "b4f05fa20a094e6caacd3ab557b8cf39",
       "version_major": 2,
       "version_minor": 0
      },
      "text/plain": [
       "HBox(children=(IntProgress(value=0), HTML(value='')))"
      ]
     },
     "metadata": {},
     "output_type": "display_data"
    },
    {
     "data": {
      "application/vnd.jupyter.widget-view+json": {
       "model_id": "6491d923f274411690e1aac1dee0fcf0",
       "version_major": 2,
       "version_minor": 0
      },
      "text/plain": [
       "HBox(children=(IntProgress(value=0), HTML(value='')))"
      ]
     },
     "metadata": {},
     "output_type": "display_data"
    },
    {
     "data": {
      "application/vnd.jupyter.widget-view+json": {
       "model_id": "1b8a14e7b56244cbadb6076b1f1d59a4",
       "version_major": 2,
       "version_minor": 0
      },
      "text/plain": [
       "HBox(children=(IntProgress(value=0), HTML(value='')))"
      ]
     },
     "metadata": {},
     "output_type": "display_data"
    }
   ],
   "source": [
    "outputs = {}\n",
    "emotions = {'sad': 0, 'energetic': 1, 'romantic': 2}\n",
    "\n",
    "for label, emotion in emotions.items(): \n",
    "    outputs[label] = generate_fragment(emotion)"
   ]
  },
  {
   "cell_type": "code",
   "execution_count": 187,
   "metadata": {
    "collapsed": true
   },
   "outputs": [],
   "source": [
    "from music21 import converter, instrument, note, chord, stream"
   ]
  },
  {
   "cell_type": "code",
   "execution_count": 188,
   "metadata": {
    "collapsed": true
   },
   "outputs": [],
   "source": [
    "output_songs = {}\n",
    "\n",
    "for label, prediction_output in outputs.items():\n",
    "    offset = 0\n",
    "    output_notes = []\n",
    "    # create note and chord objects based on the values generated by the model\n",
    "    for pattern in prediction_output:\n",
    "        # pattern is a chord\n",
    "        if pattern in ['Start', 'End']:\n",
    "            pass\n",
    "        elif ('.' in pattern) or pattern.isdigit():\n",
    "            notes_in_chord = pattern.split('.')\n",
    "            notes = []\n",
    "            for current_note in notes_in_chord:\n",
    "                new_note = note.Note(int(current_note))\n",
    "                new_note.storedInstrument = instrument.Piano()\n",
    "                notes.append(new_note)\n",
    "            new_chord = chord.Chord(notes)\n",
    "            new_chord.offset = offset\n",
    "            output_notes.append(new_chord)\n",
    "        # pattern is a note\n",
    "        else:\n",
    "            new_note = note.Note(pattern)\n",
    "            new_note.offset = offset\n",
    "            new_note.storedInstrument = instrument.Piano()\n",
    "            output_notes.append(new_note)\n",
    "        # increase offset each iteration so that notes do not stack\n",
    "        offset += 0.5\n",
    "    output_songs[label] = output_notes"
   ]
  },
  {
   "cell_type": "code",
   "execution_count": 189,
   "metadata": {},
   "outputs": [
    {
     "name": "stdout",
     "output_type": "stream",
     "text": [
      "sad\n"
     ]
    },
    {
     "data": {
      "text/html": [
       "\n",
       "                <div id='midiPlayerDiv69875'></div>\n",
       "                <link rel=\"stylesheet\" href=\"//cuthbertLab.github.io/music21j/css/m21.css\"\n",
       "                    type=\"text/css\" />\n",
       "                <script>\n",
       "                require.config({\n",
       "                    paths: {'music21': '//cuthbertLab.github.io/music21j/src/music21'}\n",
       "                });\n",
       "                require(['music21'], function() {\n",
       "                               mp = new music21.miditools.MidiPlayer();\n",
       "                               mp.addPlayer('#midiPlayerDiv69875');\n",
       "                               mp.base64Load('data:audio/midi;base64,TVRoZAAAAAYAAQABBABNVHJrAAAEswD/AwAA4ABAhACQRVoAkD1ahACQLFqEAIBFAACAPQAAkCxahACALAAAkERaAJBFWgCQPlqEAIAsAACQRFoAkEVaAJBHWoQAgEQAAIBFAACAPgAAkCNahACARAAAgEUAAIBHAACQRFoAkEVaAJA+WoQAgCMAAJBEWgCQRVqEAIBEAACARQAAgD4AAJAqWoQAgEQAAIBFAACQKlqEAIAqAACQKlqEAIAqAACQKlqEAIAqAACQKlqEAIAqAACQI1qEAIAqAACQL1qEAIAjAACQLVqEAIAvAACQRVqEAIAtAACQLVqEAIBFAACQRVoAkD1ahACALQAAkCxahACARQAAgD0AAJAsWoQAgCwAAJBEWgCQRVoAkD5ahACALAAAkERaAJBFWgCQR1qEAIBEAACARQAAgD4AAJAjWoQAgEQAAIBFAACARwAAkERaAJBFWgCQPlqEAIAjAACQRFoAkEVaAJBHWoQAgEQAAIBFAACAPgAAkEVaAJA9WoQAgEQAAIBFAACARwAAkCxahACARQAAgD0AAJAsWoQAgCwAAJBEWgCQRVoAkD5ahACALAAAkERaAJBFWgCQR1qEAIBEAACARQAAgD4AAJAjWoQAgEQAAIBFAACARwAAkD5aAJBEWoQAgCMAAJBFWgCQRloAkD5ahACAPgAAgEQAAJBFWgCQPVqEAIBFAACARgAAgD4AAJAsWoQAgEUAAIA9AACQLFqEAIAsAACQRFoAkEVaAJA+WoQAgCwAAJBEWgCQRVoAkEdahACARAAAgEUAAIA+AACQI1qEAIBEAACARQAAgEcAAJBEWgCQRVoAkD5ahACAIwAAkERaAJBFWgCQR1qEAIBEAACARQAAgD4AAJBCWgCQR1qEAIBEAACARQAAgEcAAJAqWoQAgEIAAIBHAACQKlqEAIAqAACQPloAkEJahACAKgAAkCZahACAPgAAgEIAAJAtWoQAgCYAAJAtWoQAgC0AAJAtWoQAgC0AAJAtWoQAgC0AAJAqWoQAgC0AAJAqWoQAgCoAAJAqWoQAgCoAAJAqWoQAgCoAAJAqWoQAgCoAAJAmWoQAgCoAAJAmWoQAgCYAAJAmWoQAgCYAAJAmWoQAgCYAAJAmWoQAgCYAAJAqWoQAgCYAAJAkWoQAgCoAAJAqWoQAgCQAAJAmWoQAgCoAAJAqWoQAgCYAAJAkWoQAgCoAAJAkWoQAgCQAAJAqWoQAgCQAAJAmWoQAgCoAAJAqWoQAgCYAAJAqWoQAgCoAAJAqWoQAgCoAAJAkWoQAgCoAAJAkWoQAgCQAAJAkWoQAgCQAAJAqWoQAgCQAAJAmWoQAgCoAAJAqWoQAgCYAAJAkWoQAgCoAAJAkWoQAgCQAAJAkWoQAgCQAAJAkWoQAgCQAAJAqWoQAgCQAAJAmWoQAgCoAAJAqWoQAgCYAAJAqWoQAgCoAAJAqWoQAgCoAAJAqWoQAgCoAAJAmWoQAgCoAAJAqWoQAgCYAAJAqWoQAgCoAAJAqWoQAgCoAAJAqWoQAgCoAAJAmWoQAgCoAAJAmWoQAgCYAAJAmWoQAgCYAAJAqWoQAgCYAAJAqWoQAgCoAAJAmWoQAgCoAhACAJgCIAP8vAA==');\n",
       "                        });\n",
       "                </script>"
      ],
      "text/plain": [
       "<IPython.core.display.HTML object>"
      ]
     },
     "metadata": {},
     "output_type": "display_data"
    },
    {
     "name": "stdout",
     "output_type": "stream",
     "text": [
      "energetic\n"
     ]
    },
    {
     "data": {
      "text/html": [
       "\n",
       "                <div id='midiPlayerDiv71176'></div>\n",
       "                <link rel=\"stylesheet\" href=\"//cuthbertLab.github.io/music21j/css/m21.css\"\n",
       "                    type=\"text/css\" />\n",
       "                <script>\n",
       "                require.config({\n",
       "                    paths: {'music21': '//cuthbertLab.github.io/music21j/src/music21'}\n",
       "                });\n",
       "                require(['music21'], function() {\n",
       "                               mp = new music21.miditools.MidiPlayer();\n",
       "                               mp.addPlayer('#midiPlayerDiv71176');\n",
       "                               mp.base64Load('data:audio/midi;base64,TVRoZAAAAAYAAQABBABNVHJrAAAEQwD/AwAA4ABAhACQQloAkEdahACQQFqEAIBCAACARwAAkCZahACAQAAAkEdaAJA9WoQAgCYAAJA7WoQAgEcAAIA9AACQQloAkEdahACAOwAAkB9ahACAQgAAgEcAAJAmWoQAgB8AAJBHWgCQPlqEAIAmAACQJlqEAIBHAACAPgAAkCZahACAJgAAkEJaAJBHWoQAgCYAAJAqWoQAgEIAAIBHAACQKlqEAIAqAACQJlqEAIAqAACQO1qEAIAmAACQJlqEAIA7AACQO1qEAIAmAACQKlqEAIA7AACQNlqEAIAqAACQQlqEAIA2AACQKlqEAIBCAACQKlqEAIAqAACQKlqEAIAqAACQJlqEAIAqAACQKlqEAIAmAACQQlqEAIAqAACQI1qEAIBCAACQQloAkEdahACAIwAAkCpahACAQgAAgEcAAJAqWoQAgCoAAJAmWoQAgCoAAJAuWoQAgCYAAJAuWoQAgC4AAJAlWoQAgC4AAJBCWgCQRVqEAIAlAACQO1qEAIBCAACARQAAkCpahACAOwAAkCFahACAKgAAkEBaAJBFWoQAgCEAAJA9WoQAgEAAAIBFAACQKlqEAIA9AACQI1qEAIAqAACQQloAkEdahACAIwAAkEVaAJBHWgCQQFqEAIBCAACARwAAkEBaAJBFWoQAgEUAAIBHAACAQAAAkDtahACAQAAAgEUAAJAqWoQAgDsAAJAjWoQAgCoAAJAjWoQAgCMAAJBCWgCQRVoAkD1ahACAIwAAkDlahACAQgAAgEUAAIA9AACQKlqEAIA5AACQJlqEAIAqAACQQlqEAIAmAACQQloAkEdahACAQgAAkCpahACAQgAAgEcAAJBAWoQAgCoAAJAqWoQAgEAAAJBCWoQAgCoAAJBCWoQAgEIAAJBAWgCQQlqEAIBCAACQKlqEAIBAAACAQgAAkChahACAKgAAkChahACAKAAAkEdaAJBAWoQAgCgAAJAxWoQAgEcAAIBAAACQKlqEAIAxAACQNlqEAIAqAACQKlqEAIA2AACQNlqEAIAqAACQNlqEAIA2AACQKlqEAIA2AACQKlqEAIAqAACQNlqEAIAqAACQPVoAkEJahACANgAAkCpahACAPQAAgEIAAJA9WgCQQVqEAIAqAACQNlqEAIA9AACAQQAAkDZahACANgAAkDZahACANgAAkDZahACANgAAkEJaAJBHWoQAgDYAAJA2WoQAgEIAAIBHAACQI1qEAIA2AACQNlqEAIAjAACQNlqEAIA2AACQO1qEAIA2AACQNlqEAIA7AACQNlqEAIA2AACQR1oAkD5ahACANgAAkC9ahACARwAAgD4AAJA9WgCQQlqEAIAvAACQNlqEAIA9AACAQgAAkDZahACANgAAkDZahACANgAAkDhahACANgAAkDZahACAOAAAkDZahACANgAAkChahACANgCEAIAoAIgA/y8A');\n",
       "                        });\n",
       "                </script>"
      ],
      "text/plain": [
       "<IPython.core.display.HTML object>"
      ]
     },
     "metadata": {},
     "output_type": "display_data"
    },
    {
     "name": "stdout",
     "output_type": "stream",
     "text": [
      "romantic\n"
     ]
    },
    {
     "data": {
      "text/html": [
       "\n",
       "                <div id='midiPlayerDiv72477'></div>\n",
       "                <link rel=\"stylesheet\" href=\"//cuthbertLab.github.io/music21j/css/m21.css\"\n",
       "                    type=\"text/css\" />\n",
       "                <script>\n",
       "                require.config({\n",
       "                    paths: {'music21': '//cuthbertLab.github.io/music21j/src/music21'}\n",
       "                });\n",
       "                require(['music21'], function() {\n",
       "                               mp = new music21.miditools.MidiPlayer();\n",
       "                               mp.addPlayer('#midiPlayerDiv72477');\n",
       "                               mp.base64Load('data:audio/midi;base64,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');\n",
       "                        });\n",
       "                </script>"
      ],
      "text/plain": [
       "<IPython.core.display.HTML object>"
      ]
     },
     "metadata": {},
     "output_type": "display_data"
    }
   ],
   "source": [
    "for label, output_notes in output_songs.items():\n",
    "    midi_stream = stream.Stream(output_notes)\n",
    "    print(label)\n",
    "    midi_stream.write('midi', fp='{}_q.mid'.format(label))\n",
    "    midi_stream.show('midi')"
   ]
  },
  {
   "cell_type": "code",
   "execution_count": 190,
   "metadata": {},
   "outputs": [
    {
     "name": "stdout",
     "output_type": "stream",
     "text": [
      "{0.0} <music21.stream.Part 0x7f38d1f1e6a0>\n",
      "    {0.0} <music21.stream.Voice 0x7f38d1f1e710>\n",
      "        {0.0} <music21.note.Rest rest>\n",
      "        {0.5} <music21.chord.Chord A4 C#4>\n",
      "        {2.0} <music21.chord.Chord G#4 A4>\n",
      "        {2.5} <music21.note.Note B>\n",
      "        {3.5} <music21.chord.Chord G#4 A4>\n",
      "        {4.5} <music21.note.Note F#>\n",
      "        {5.5} <music21.note.Note F#>\n",
      "        {6.0} <music21.note.Note F#>\n",
      "        {6.5} <music21.note.Note F#>\n",
      "        {7.0} <music21.note.Note B>\n",
      "        {8.0} <music21.note.Note A>\n",
      "        {9.0} <music21.note.Note A>\n",
      "        {10.0} <music21.note.Note G#>\n",
      "        {11.0} <music21.chord.Chord G#4 A4>\n",
      "        {11.5} <music21.note.Note B>\n",
      "        {12.5} <music21.chord.Chord G#4 A4>\n",
      "        {13.0} <music21.note.Note B>\n",
      "        {14.0} <music21.note.Note G#>\n",
      "        {15.0} <music21.chord.Chord G#4 A4>\n",
      "        {15.5} <music21.note.Note B>\n",
      "        {16.5} <music21.note.Note D>\n",
      "        {17.0} <music21.note.Note A>\n",
      "        {17.5} <music21.note.Note C#>\n",
      "        {19.0} <music21.chord.Chord G#4 A4>\n",
      "        {19.5} <music21.note.Note B>\n",
      "        {20.5} <music21.chord.Chord G#4 A4>\n",
      "        {21.0} <music21.note.Note B>\n",
      "        {21.5} <music21.note.Note F#>\n",
      "        {23.0} <music21.chord.Chord D4 F#4>\n",
      "        {24.0} <music21.note.Note A>\n",
      "        {25.0} <music21.note.Note A>\n",
      "        {25.5} <music21.note.Note A>\n",
      "        {26.0} <music21.note.Note F#>\n",
      "        {27.0} <music21.note.Note F#>\n",
      "        {27.5} <music21.note.Note F#>\n",
      "        {28.0} <music21.note.Note F#>\n",
      "        {28.5} <music21.note.Note D>\n",
      "        {29.5} <music21.note.Note D>\n",
      "        {30.0} <music21.note.Note D>\n",
      "        {30.5} <music21.note.Note D>\n",
      "        {31.0} <music21.note.Note F#>\n",
      "        {32.0} <music21.note.Note F#>\n",
      "        {33.0} <music21.note.Note F#>\n",
      "        {34.5} <music21.note.Note F#>\n",
      "        {35.5} <music21.note.Note F#>\n",
      "        {36.5} <music21.note.Note F#>\n",
      "        {37.0} <music21.note.Note C>\n",
      "        {38.0} <music21.note.Note C>\n",
      "        {38.5} <music21.note.Note F#>\n",
      "        {39.5} <music21.note.Note F#>\n",
      "        {41.0} <music21.note.Note C>\n",
      "        {41.5} <music21.note.Note C>\n",
      "        {42.0} <music21.note.Note F#>\n",
      "        {43.0} <music21.note.Note F#>\n",
      "        {44.0} <music21.note.Note F#>\n",
      "        {44.5} <music21.note.Note F#>\n",
      "        {45.0} <music21.note.Note D>\n",
      "        {46.5} <music21.note.Note F#>\n",
      "        {47.0} <music21.note.Note F#>\n",
      "        {47.5} <music21.note.Note D>\n",
      "        {48.5} <music21.note.Note D>\n",
      "        {49.0} <music21.note.Note F#>\n",
      "        {50.0} <music21.note.Note D>\n",
      "    {0.0} <music21.stream.Voice 0x7f38d1f649e8>\n",
      "        {0.0} <music21.note.Rest rest>\n",
      "        {1.0} <music21.note.Note G#>\n",
      "        {1.0} <music21.note.Rest rest>\n",
      "        {2.0} <music21.note.Note D>\n",
      "        {3.0} <music21.note.Note B>\n",
      "        {7.5} <music21.note.Note B>\n",
      "        {8.5} <music21.note.Note A>\n",
      "        {9.5} <music21.chord.Chord A4 C#4>\n",
      "        {11.0} <music21.note.Note D>\n",
      "        {12.0} <music21.note.Note B>\n",
      "        {13.5} <music21.note.Note A>\n",
      "        {15.0} <music21.note.Note D>\n",
      "        {16.0} <music21.note.Note B>\n",
      "        {17.0} <music21.note.Note B->\n",
      "        {18.0} <music21.note.Note G#>\n",
      "        {19.0} <music21.note.Note D>\n",
      "        {20.0} <music21.note.Note B>\n",
      "        {22.0} <music21.note.Note F#>\n",
      "        {23.5} <music21.note.Note D>\n",
      "        {31.5} <music21.note.Note C>\n",
      "        {32.5} <music21.note.Note D>\n",
      "        {33.5} <music21.note.Note C>\n",
      "        {35.0} <music21.note.Note D>\n",
      "        {39.0} <music21.note.Note D>\n",
      "        {40.0} <music21.note.Note C>\n",
      "        {42.5} <music21.note.Note D>\n",
      "        {45.5} <music21.note.Note F#>\n",
      "        {46.0} <music21.note.Rest rest>\n",
      "    {0.0} <music21.stream.Voice 0x7f38d1f84048>\n",
      "        {3.5} <music21.note.Note D>\n",
      "        {12.5} <music21.note.Note D>\n",
      "        {13.5} <music21.note.Note C#>\n",
      "        {16.5} <music21.note.Note G#>\n",
      "        {20.5} <music21.note.Note D>\n"
     ]
    }
   ],
   "source": [
    "midi = converter.parse('sad_q.mid')\n",
    "midi.show('text')"
   ]
  },
  {
   "cell_type": "code",
   "execution_count": 191,
   "metadata": {},
   "outputs": [
    {
     "name": "stdout",
     "output_type": "stream",
     "text": [
      "{0.0} <music21.stream.Part 0x7f38d1f8d4e0>\n",
      "    {0.0} <music21.stream.Voice 0x7f38d1f8d550>\n",
      "        {0.0} <music21.note.Rest rest>\n",
      "        {0.5} <music21.chord.Chord F#4 B4>\n",
      "        {1.5} <music21.note.Note D>\n",
      "        {2.5} <music21.note.Note B>\n",
      "        {3.5} <music21.note.Note G>\n",
      "        {4.5} <music21.chord.Chord B4 D4>\n",
      "        {6.0} <music21.chord.Chord F#4 B4>\n",
      "        {7.5} <music21.note.Note D>\n",
      "        {8.5} <music21.note.Note D>\n",
      "        {9.5} <music21.note.Note F#>\n",
      "        {10.5} <music21.note.Note F#>\n",
      "        {12.0} <music21.note.Note F#>\n",
      "        {12.5} <music21.note.Note D>\n",
      "        {13.5} <music21.note.Note F#>\n",
      "        {14.5} <music21.chord.Chord F#4 B4>\n",
      "        {16.0} <music21.note.Note D>\n",
      "        {17.5} <music21.note.Note C#>\n",
      "        {18.5} <music21.note.Note B>\n",
      "        {19.5} <music21.note.Note A>\n",
      "        {20.5} <music21.note.Note C#>\n",
      "        {21.5} <music21.note.Note B>\n",
      "        {22.5} <music21.chord.Chord A4 E4>\n",
      "        {23.5} <music21.note.Note B>\n",
      "        {24.5} <music21.note.Note B>\n",
      "        {25.5} <music21.chord.Chord F#4 A4 C#4>\n",
      "        {26.5} <music21.note.Note F#>\n",
      "        {27.5} <music21.note.Note F#>\n",
      "        {28.0} <music21.note.Note B>\n",
      "        {29.0} <music21.note.Note E>\n",
      "        {30.0} <music21.note.Note F#>\n",
      "        {31.0} <music21.note.Note E>\n",
      "        {32.0} <music21.note.Note E>\n",
      "        {33.0} <music21.chord.Chord B4 E4>\n",
      "        {34.0} <music21.note.Note F#>\n",
      "        {35.0} <music21.note.Note F#>\n",
      "        {36.5} <music21.note.Note F#>\n",
      "        {37.5} <music21.note.Note F#>\n",
      "        {38.5} <music21.note.Note F#>\n",
      "        {39.5} <music21.note.Note F#>\n",
      "        {40.5} <music21.note.Note F#>\n",
      "        {41.0} <music21.note.Note F#>\n",
      "        {41.5} <music21.chord.Chord F#4 B4>\n",
      "        {42.5} <music21.note.Note B>\n",
      "        {44.0} <music21.note.Note B>\n",
      "        {45.5} <music21.chord.Chord B4 D4>\n",
      "        {46.5} <music21.chord.Chord C#4 F#4>\n",
      "        {48.0} <music21.note.Note F#>\n",
      "        {48.5} <music21.note.Note G#>\n",
      "        {50.0} <music21.note.Note E>\n",
      "    {0.0} <music21.stream.Voice 0x7f38d1ec9588>\n",
      "        {0.0} <music21.note.Rest rest>\n",
      "        {1.0} <music21.note.Note E>\n",
      "        {1.0} <music21.note.Rest rest>\n",
      "        {2.0} <music21.chord.Chord B4 C#4>\n",
      "        {3.0} <music21.chord.Chord F#4 B4>\n",
      "        {4.0} <music21.note.Note D>\n",
      "        {5.0} <music21.note.Note D>\n",
      "        {6.5} <music21.note.Note F#>\n",
      "        {8.0} <music21.note.Note B>\n",
      "        {9.0} <music21.note.Note B>\n",
      "        {10.0} <music21.note.Note F#>\n",
      "        {11.0} <music21.note.Note F#>\n",
      "        {13.0} <music21.note.Note F#>\n",
      "        {14.0} <music21.note.Note B>\n",
      "        {15.0} <music21.note.Note F#>\n",
      "        {16.5} <music21.note.Note B->\n",
      "        {18.0} <music21.chord.Chord F#4 A4>\n",
      "        {19.0} <music21.note.Note F#>\n",
      "        {20.0} <music21.chord.Chord E4 A4>\n",
      "        {21.0} <music21.note.Note F#>\n",
      "        {22.0} <music21.note.Note F#>\n",
      "        {24.0} <music21.note.Note F#>\n",
      "        {26.0} <music21.note.Note A>\n",
      "        {27.0} <music21.note.Note D>\n",
      "        {28.5} <music21.note.Note F#>\n",
      "        {29.5} <music21.note.Note F#>\n",
      "        {31.0} <music21.note.Note F#>\n",
      "        {31.5} <music21.note.Note F#>\n",
      "        {33.5} <music21.note.Note C#>\n",
      "        {34.5} <music21.note.Note F#>\n",
      "        {35.5} <music21.note.Note F#>\n",
      "        {38.0} <music21.chord.Chord C#4 F#4>\n",
      "        {39.0} <music21.chord.Chord C#4 F4>\n",
      "        {42.0} <music21.note.Note F#>\n",
      "        {43.0} <music21.note.Note F#>\n",
      "        {44.5} <music21.note.Note F#>\n",
      "        {46.0} <music21.note.Note B>\n",
      "        {47.0} <music21.note.Note F#>\n",
      "        {49.0} <music21.note.Note F#>\n",
      "        {49.5} <music21.note.Rest rest>\n",
      "    {0.0} <music21.stream.Voice 0x7f38d1e69550>\n",
      "        {22.0} <music21.note.Note B>\n"
     ]
    }
   ],
   "source": [
    "midi = converter.parse('energetic_q.mid')\n",
    "midi.show('text')"
   ]
  },
  {
   "cell_type": "code",
   "execution_count": null,
   "metadata": {
    "collapsed": true
   },
   "outputs": [],
   "source": []
  }
 ],
 "metadata": {
  "kernelspec": {
   "display_name": "Python 3",
   "language": "python",
   "name": "python3"
  },
  "language_info": {
   "codemirror_mode": {
    "name": "ipython",
    "version": 3
   },
   "file_extension": ".py",
   "mimetype": "text/x-python",
   "name": "python",
   "nbconvert_exporter": "python",
   "pygments_lexer": "ipython3",
   "version": "3.6.4"
  }
 },
 "nbformat": 4,
 "nbformat_minor": 2
}
